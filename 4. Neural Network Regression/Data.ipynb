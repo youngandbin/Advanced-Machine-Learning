{
 "cells": [
  {
   "cell_type": "markdown",
   "metadata": {},
   "source": [
    "# Save Data"
   ]
  },
  {
   "cell_type": "code",
   "execution_count": 2,
   "metadata": {},
   "outputs": [],
   "source": [
    "import pandas as pd\n",
    "import numpy as np\n",
    "import torch\n",
    "import torchvision.transforms as tt\n",
    "from PIL import Image\n",
    "import glob\n",
    "from tqdm import tqdm\n",
    "# dd"
   ]
  },
  {
   "cell_type": "markdown",
   "metadata": {},
   "source": [
    "## label (Y)\n",
    "- Y_train (16008 rows × 63 columns)\n",
    "- Y_test (1596 rows × 63 columns)"
   ]
  },
  {
   "cell_type": "code",
   "execution_count": 17,
   "metadata": {},
   "outputs": [
    {
     "data": {
      "text/html": [
       "<div>\n",
       "<style scoped>\n",
       "    .dataframe tbody tr th:only-of-type {\n",
       "        vertical-align: middle;\n",
       "    }\n",
       "\n",
       "    .dataframe tbody tr th {\n",
       "        vertical-align: top;\n",
       "    }\n",
       "\n",
       "    .dataframe thead th {\n",
       "        text-align: right;\n",
       "    }\n",
       "</style>\n",
       "<table border=\"1\" class=\"dataframe\">\n",
       "  <thead>\n",
       "    <tr style=\"text-align: right;\">\n",
       "      <th></th>\n",
       "      <th>focal_length_x</th>\n",
       "      <th>focal_length_y</th>\n",
       "      <th>res_x</th>\n",
       "      <th>res_y</th>\n",
       "      <th>tile_x</th>\n",
       "      <th>tile_y</th>\n",
       "    </tr>\n",
       "  </thead>\n",
       "  <tbody>\n",
       "    <tr>\n",
       "      <th>0</th>\n",
       "      <td>0.7531</td>\n",
       "      <td>1.004</td>\n",
       "      <td>320.0</td>\n",
       "      <td>240.0</td>\n",
       "      <td>0.0</td>\n",
       "      <td>0.0</td>\n",
       "    </tr>\n",
       "  </tbody>\n",
       "</table>\n",
       "</div>"
      ],
      "text/plain": [
       "   focal_length_x  focal_length_y  res_x  res_y  tile_x  tile_y\n",
       "0          0.7531           1.004  320.0  240.0     0.0     0.0"
      ]
     },
     "execution_count": 17,
     "metadata": {},
     "output_type": "execute_result"
    }
   ],
   "source": [
    "annotation_train = pd.read_csv('data/Training/Annotation_Training.csv')\n",
    "Y_train = annotation_train.iloc[3:, :]\n",
    "Y_train.columns = range(Y_train.shape[1])\n",
    "Y_train = Y_train.set_index(0)\n",
    "Y_train.to_csv('data/Training/Y_train.csv', index=False)\n",
    "\n",
    "annotation_test = pd.read_csv('data/Testing/Annotation_Testing.csv')\n",
    "Y_test = annotation_test.iloc[3:, :]\n",
    "Y_test.columns = range(Y_test.shape[1])\n",
    "Y_test = Y_test.set_index(0)\n",
    "Y_test.to_csv('data/Testing/Y_test.csv', index=False)\n",
    "\n",
    "info = annotation_train.iloc[:1, :6]  # train, test 같음\n",
    "info\n"
   ]
  },
  {
   "cell_type": "markdown",
   "metadata": {},
   "source": [
    "## image (X)\n",
    "- X_train\n",
    "    - depth_1_0000001.png ~ depth_1_0016008.png\n",
    "- X_test\n",
    "    - depth_1_0000001.png ~ depth_1_0001596.png"
   ]
  },
  {
   "cell_type": "code",
   "execution_count": 18,
   "metadata": {},
   "outputs": [],
   "source": [
    "path_train = 'data/Training/depth/*.png'\n",
    "path_test = 'data/Testing/depth/*.png'\n",
    "\n",
    "transform = tt.Compose([\n",
    "    tt.PILToTensor()\n",
    "])\n"
   ]
  },
  {
   "cell_type": "code",
   "execution_count": 19,
   "metadata": {},
   "outputs": [
    {
     "name": "stderr",
     "output_type": "stream",
     "text": [
      "100%|██████████| 16008/16008 [00:23<00:00, 668.66it/s]\n",
      "100%|██████████| 1596/1596 [00:02<00:00, 618.76it/s]\n"
     ]
    }
   ],
   "source": [
    "img_list = []\n",
    "for filename in tqdm(glob.glob(path_train)):\n",
    "    img = Image.open(filename)\n",
    "    img_tensor = transform(img)  # torch.Size([1, 240, 320])\n",
    "    img_list.append(img_tensor)\n",
    "X_train = torch.stack(img_list)  # torch.Size([data_len, 1, 240, 320])\n",
    "torch.save(X_train, 'data/Training/X_train.pt')\n",
    "\n",
    "\n",
    "\n",
    "img_list = []\n",
    "for filename in tqdm(glob.glob(path_test)):\n",
    "    img = Image.open(filename)\n",
    "    img_tensor = transform(img)  # torch.Size([1, 240, 320])\n",
    "    img_list.append(img_tensor)\n",
    "X_test = torch.stack(img_list)  # torch.Size([data_len, 1, 240, 320])\n",
    "torch.save(X_test, 'data/Testing/X_test.pt')\n"
   ]
  },
  {
   "cell_type": "code",
   "execution_count": 20,
   "metadata": {},
   "outputs": [
    {
     "name": "stderr",
     "output_type": "stream",
     "text": [
      "100%|██████████| 16008/16008 [00:29<00:00, 551.94it/s]\n",
      "100%|██████████| 1596/1596 [00:02<00:00, 538.52it/s]\n"
     ]
    }
   ],
   "source": [
    "img_list = []\n",
    "for filename in tqdm(glob.glob(path_train)):\n",
    "    img = Image.open(filename)\n",
    "    img_tensor = transform(img)  # torch.Size([1, 240, 320])\n",
    "    ###\n",
    "    c_min = img_tensor.min()\n",
    "    c_max = img_tensor.max()\n",
    "    if c_min > np.iinfo(np.int8).min and c_max < np.iinfo(np.int8).max:\n",
    "        img_tensor = img_tensor.to(torch.int8)\n",
    "    elif c_min > np.iinfo(np.int16).min and c_max < np.iinfo(np.int16).max:\n",
    "        img_tensor = img_tensor.to(torch.int16)\n",
    "    elif c_min > np.iinfo(np.int32).min and c_max < np.iinfo(np.int32).max:\n",
    "        img_tensor = img_tensor.to(torch.int32)\n",
    "    elif c_min > np.iinfo(np.int64).min and c_max < np.iinfo(np.int64).max:\n",
    "        img_tensor = img_tensor.to(torch.int64)\n",
    "    ###\n",
    "    img_list.append(img_tensor)\n",
    "X_train = torch.stack(img_list)  # torch.Size([data_len, 1, 240, 320])\n",
    "torch.save(X_train, 'data/Training/X_train_diet.pt')\n",
    "\n",
    "\n",
    "\n",
    "img_list = []\n",
    "for filename in tqdm(glob.glob(path_test)):\n",
    "    img = Image.open(filename)\n",
    "    img_tensor = transform(img)  # torch.Size([1, 240, 320])\n",
    "\n",
    "    ###\n",
    "    c_min = img_tensor.min()\n",
    "    c_max = img_tensor.max()\n",
    "    if c_min > np.iinfo(np.int8).min and c_max < np.iinfo(np.int8).max:\n",
    "        img_tensor = img_tensor.to(torch.int8)\n",
    "    elif c_min > np.iinfo(np.int16).min and c_max < np.iinfo(np.int16).max:\n",
    "        img_tensor = img_tensor.to(torch.int16)\n",
    "    elif c_min > np.iinfo(np.int32).min and c_max < np.iinfo(np.int32).max:\n",
    "        img_tensor = img_tensor.to(torch.int32)\n",
    "    elif c_min > np.iinfo(np.int64).min and c_max < np.iinfo(np.int64).max:\n",
    "        img_tensor = img_tensor.to(torch.int64)\n",
    "    ###\n",
    "\n",
    "    img_list.append(img_tensor)\n",
    "X_test = torch.stack(img_list)  # torch.Size([data_len, 1, 240, 320])\n",
    "torch.save(X_test, 'data/Testing/X_test_diet.pt')\n"
   ]
  },
  {
   "cell_type": "markdown",
   "metadata": {},
   "source": [
    "# shape 바꿔주기 \n",
    "- Batch, Height, Width, Channel"
   ]
  },
  {
   "cell_type": "code",
   "execution_count": 9,
   "metadata": {},
   "outputs": [
    {
     "name": "stdout",
     "output_type": "stream",
     "text": [
      "X_train:  torch.Size([16008, 1, 240, 320])\n",
      "X_test:  torch.Size([1596, 1, 240, 320])\n",
      "Y_train:  (16008, 63)\n",
      "Y_test:  (1596, 63)\n"
     ]
    }
   ],
   "source": [
    "X_train = torch.load('data/Training/X_train_diet.pt')\n",
    "X_test = torch.load('data/Testing/X_test_diet.pt') \n",
    "\n",
    "Y_train = pd.read_csv('data/Training/Y_train.csv')\n",
    "Y_test = pd.read_csv('data/Testing/Y_test.csv')\n",
    "\n",
    "print('X_train: ', X_train.shape)\n",
    "print('X_test: ', X_test.shape)\n",
    "print('Y_train: ', Y_train.shape)\n",
    "print('Y_test: ', Y_test.shape)"
   ]
  },
  {
   "cell_type": "code",
   "execution_count": 10,
   "metadata": {},
   "outputs": [
    {
     "data": {
      "text/plain": [
       "torch.Size([1596, 240, 320, 1])"
      ]
     },
     "execution_count": 10,
     "metadata": {},
     "output_type": "execute_result"
    }
   ],
   "source": [
    "X_train = X_train.permute([0,2,3,1])\n",
    "X_train.shape\n",
    "\n",
    "X_test = X_test.permute([0, 2, 3, 1])\n",
    "X_test.shape\n"
   ]
  },
  {
   "cell_type": "code",
   "execution_count": 11,
   "metadata": {},
   "outputs": [],
   "source": [
    "torch.save(X_train, 'data/Training/X_train_diet.pt')\n",
    "torch.save(X_test, 'data/Testing/X_test_diet.pt')"
   ]
  },
  {
   "cell_type": "code",
   "execution_count": null,
   "metadata": {},
   "outputs": [],
   "source": []
  }
 ],
 "metadata": {
  "interpreter": {
   "hash": "b32c03290ac83e85360a6b25c84a4d7d0173ff69cc4741b1b57cc3b22dc3e49c"
  },
  "kernelspec": {
   "display_name": "Python 3.8.12 ('AML')",
   "language": "python",
   "name": "python3"
  },
  "language_info": {
   "codemirror_mode": {
    "name": "ipython",
    "version": 3
   },
   "file_extension": ".py",
   "mimetype": "text/x-python",
   "name": "python",
   "nbconvert_exporter": "python",
   "pygments_lexer": "ipython3",
   "version": "3.8.12"
  },
  "orig_nbformat": 4
 },
 "nbformat": 4,
 "nbformat_minor": 2
}
