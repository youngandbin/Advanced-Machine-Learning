{
 "cells": [
  {
   "cell_type": "markdown",
   "metadata": {},
   "source": [
    "# 1. Data"
   ]
  },
  {
   "cell_type": "code",
   "execution_count": 14,
   "metadata": {},
   "outputs": [],
   "source": [
    "import pandas as pd\n",
    "import numpy as np\n",
    "import torch\n",
    "import torchvision.transforms as tt\n",
    "from PIL import Image\n",
    "import glob\n"
   ]
  },
  {
   "cell_type": "markdown",
   "metadata": {},
   "source": [
    "## label (Y)\n",
    "- Y_train (16008 rows × 63 columns)\n",
    "- Y_test (1596 rows × 63 columns)"
   ]
  },
  {
   "cell_type": "code",
   "execution_count": 2,
   "metadata": {},
   "outputs": [
    {
     "data": {
      "text/html": [
       "<div>\n",
       "<style scoped>\n",
       "    .dataframe tbody tr th:only-of-type {\n",
       "        vertical-align: middle;\n",
       "    }\n",
       "\n",
       "    .dataframe tbody tr th {\n",
       "        vertical-align: top;\n",
       "    }\n",
       "\n",
       "    .dataframe thead th {\n",
       "        text-align: right;\n",
       "    }\n",
       "</style>\n",
       "<table border=\"1\" class=\"dataframe\">\n",
       "  <thead>\n",
       "    <tr style=\"text-align: right;\">\n",
       "      <th></th>\n",
       "      <th>focal_length_x</th>\n",
       "      <th>focal_length_y</th>\n",
       "      <th>res_x</th>\n",
       "      <th>res_y</th>\n",
       "      <th>tile_x</th>\n",
       "      <th>tile_y</th>\n",
       "    </tr>\n",
       "  </thead>\n",
       "  <tbody>\n",
       "    <tr>\n",
       "      <th>0</th>\n",
       "      <td>0.7531</td>\n",
       "      <td>1.004</td>\n",
       "      <td>320.0</td>\n",
       "      <td>240.0</td>\n",
       "      <td>0.0</td>\n",
       "      <td>0.0</td>\n",
       "    </tr>\n",
       "  </tbody>\n",
       "</table>\n",
       "</div>"
      ],
      "text/plain": [
       "   focal_length_x  focal_length_y  res_x  res_y  tile_x  tile_y\n",
       "0          0.7531           1.004  320.0  240.0     0.0     0.0"
      ]
     },
     "execution_count": 2,
     "metadata": {},
     "output_type": "execute_result"
    }
   ],
   "source": [
    "annotation_train = pd.read_csv('data/Training/Annotation_Training.csv')\n",
    "Y_train = annotation_train.iloc[3:, :]\n",
    "Y_train.columns = range(Y_train.shape[1])\n",
    "Y_train = Y_train.set_index(0)\n",
    "\n",
    "annotation_test = pd.read_csv('data/Testing/Annotation_Testing.csv')\n",
    "Y_test = annotation_test.iloc[3:, :]\n",
    "Y_test.columns = range(Y_test.shape[1])\n",
    "Y_test = Y_test.set_index(0)\n",
    "\n",
    "info = annotation_train.iloc[:1, :6]  # train, test 같음\n",
    "info\n"
   ]
  },
  {
   "cell_type": "markdown",
   "metadata": {},
   "source": [
    "## image (X)\n",
    "- X_train\n",
    "    - depth_1_0000001.png ~ depth_1_0016008.png\n",
    "- X_test\n",
    "    - depth_1_0000001.png ~ depth_1_0001596.png"
   ]
  },
  {
   "cell_type": "code",
   "execution_count": 1,
   "metadata": {},
   "outputs": [],
   "source": [
    "path_train = 'data/Training/depth/*.png'\n",
    "path_test = 'data/Testing/depth/*.png'"
   ]
  },
  {
   "cell_type": "code",
   "execution_count": 23,
   "metadata": {},
   "outputs": [],
   "source": [
    "from PIL import Image\n",
    "import glob\n",
    "\n",
    "img_list = []\n",
    "for filename in glob.glob('data/Training/depth2/*.png'):\n",
    "    img = Image.open(filename)\n",
    "    img_list.append(img)\n"
   ]
  },
  {
   "cell_type": "code",
   "execution_count": 29,
   "metadata": {},
   "outputs": [],
   "source": [
    "transform = tt.Compose([\n",
    "    tt.PILToTensor()\n",
    "    ])\n",
    "\n",
    "img_tensor = transform(img)\n"
   ]
  },
  {
   "cell_type": "code",
   "execution_count": 30,
   "metadata": {},
   "outputs": [
    {
     "data": {
      "text/plain": [
       "torch.Size([1, 240, 320])"
      ]
     },
     "execution_count": 30,
     "metadata": {},
     "output_type": "execute_result"
    }
   ],
   "source": [
    "img_tensor.shape\n"
   ]
  },
  {
   "cell_type": "code",
   "execution_count": 31,
   "metadata": {},
   "outputs": [
    {
     "data": {
      "text/plain": [
       "tensor([[[2001, 2001, 2001,  ..., 2001, 2001, 2001],\n",
       "         [2001, 2001, 2001,  ..., 2001, 2001, 2001],\n",
       "         [2001, 2001, 2001,  ..., 2001, 2001, 2001],\n",
       "         ...,\n",
       "         [2001, 2001, 2001,  ..., 2001, 2001, 2001],\n",
       "         [2001, 2001, 2001,  ..., 2001, 2001, 2001],\n",
       "         [2001, 2001, 2001,  ..., 2001, 2001, 2001]]], dtype=torch.int32)"
      ]
     },
     "execution_count": 31,
     "metadata": {},
     "output_type": "execute_result"
    }
   ],
   "source": [
    "img_tensor\n"
   ]
  },
  {
   "cell_type": "code",
   "execution_count": null,
   "metadata": {},
   "outputs": [],
   "source": []
  }
 ],
 "metadata": {
  "interpreter": {
   "hash": "b32c03290ac83e85360a6b25c84a4d7d0173ff69cc4741b1b57cc3b22dc3e49c"
  },
  "kernelspec": {
   "display_name": "Python 3.8.12 ('AML')",
   "language": "python",
   "name": "python3"
  },
  "language_info": {
   "codemirror_mode": {
    "name": "ipython",
    "version": 3
   },
   "file_extension": ".py",
   "mimetype": "text/x-python",
   "name": "python",
   "nbconvert_exporter": "python",
   "pygments_lexer": "ipython3",
   "version": "3.8.12"
  },
  "orig_nbformat": 4
 },
 "nbformat": 4,
 "nbformat_minor": 2
}
