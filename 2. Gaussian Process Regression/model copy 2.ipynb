{
 "cells": [
  {
   "cell_type": "markdown",
   "metadata": {},
   "source": [
    "# 0. Data"
   ]
  },
  {
   "cell_type": "code",
   "execution_count": 1,
   "metadata": {},
   "outputs": [],
   "source": [
    "import pandas as pd\n",
    "import numpy as np\n",
    "import time\n",
    "import torch\n",
    "import torch.nn as nn\n",
    "device = torch.device(\"cuda\")\n",
    "from sklearn.model_selection import train_test_split\n"
   ]
  },
  {
   "cell_type": "code",
   "execution_count": 2,
   "metadata": {},
   "outputs": [
    {
     "name": "stdout",
     "output_type": "stream",
     "text": [
      "train set:  torch.Size([800, 21]) torch.Size([800, 7])\n",
      "valid set:  torch.Size([200, 21]) torch.Size([200, 7])\n",
      "test set:  torch.Size([100, 21]) torch.Size([100, 7])\n"
     ]
    }
   ],
   "source": [
    "'split data'\n",
    "'first 21 columns are input variables and last 7 columns are output variables'\n",
    "\n",
    "train_data = pd.read_csv('./data/SARCOSTst.csv', header=None)[:1000]\n",
    "test_data = pd.read_csv('./data/SARCOSTrn.csv', header=None)[:100]\n",
    "\n",
    "X_train, X_valid, Y_train, Y_valid = train_test_split(train_data.iloc[:,:21], train_data.iloc[:,-7:], test_size=0.2)\n",
    "X_test, Y_test = test_data.iloc[:,:21], test_data.iloc[:,-7:]\n",
    "\n",
    "X_train = torch.tensor(X_train.values).to(device)\n",
    "X_valid = torch.tensor(X_valid.values).to(device)\n",
    "Y_train = torch.tensor(Y_train.values).to(device)\n",
    "Y_valid = torch.tensor(Y_valid.values).to(device)\n",
    "X_test = torch.tensor(X_test.values).to(device)\n",
    "Y_test = torch.tensor(Y_test.values).to(device)\n",
    "\n",
    "print('train set: ', X_train.shape, Y_train.shape)\n",
    "print('valid set: ', X_valid.shape, Y_valid.shape)\n",
    "print('test set: ', X_test.shape, Y_test.shape)"
   ]
  },
  {
   "cell_type": "markdown",
   "metadata": {},
   "source": [
    "# 1. Kernel"
   ]
  },
  {
   "cell_type": "code",
   "execution_count": 3,
   "metadata": {},
   "outputs": [],
   "source": [
    "class LinearKernel:\n",
    "    \"\"\"\n",
    "    standard dot product kernel k(a,b) = a^\\top b\n",
    "    :input: X1 (N*D), X2 (M*D)\n",
    "    :output: covariance matrix (N*M)\n",
    "    \"\"\"\n",
    "    def __init__(self):\n",
    "        pass\n",
    "\n",
    "    def __call__(self, X1, X2):\n",
    "        # return torch.tensor([[torch.dot(x1, x2) for x1 in X1] for x2 in X2]) \n",
    "        return X1 @ X2.T \n"
   ]
  },
  {
   "cell_type": "code",
   "execution_count": 4,
   "metadata": {},
   "outputs": [],
   "source": [
    "class GaussianKernel:\n",
    "    \"\"\"\n",
    "    isotropic Gaussian kernel\n",
    "    :input: X1 (N*D), X2 (M*D)\n",
    "    :output: covariance matrix (N*M)\n",
    "    \"\"\"\n",
    "    def __init__(self, sigma_k=1):\n",
    "        self.sigma_k = sigma_k # isotropic Gaussian kernel variance (Hyperparameter !)\n",
    "\n",
    "    def __call__(self, X1, X2):\n",
    "        # return np.exp(-(np.sum(X1**2, axis=1).values.reshape(-1, 1) +\n",
    "        #                 np.sum(X2**2, axis=1).values.reshape(1, -1) - 2*X1@X2.T) / pow(self.sigma_k, 2))\n",
    "        return torch.exp(-(torch.sum(X1**2, axis=1).reshape(-1, 1) +\n",
    "                           torch.sum(X2**2, axis=1).reshape(1, -1) - 2*X1@X2.T) / pow(self.sigma_k, 2))\n"
   ]
  },
  {
   "cell_type": "markdown",
   "metadata": {},
   "source": [
    "# 2. GP regression"
   ]
  },
  {
   "cell_type": "code",
   "execution_count": 20,
   "metadata": {},
   "outputs": [],
   "source": [
    "class GP_Regression(nn.Module):\n",
    "    def __init__(self, X_train, Y_train, K:GaussianKernel(), sigma_n, device):\n",
    "        super().__init__()\n",
    "        self.X_train = X_train\n",
    "        self.Y_train = Y_train\n",
    "        self.K = K\n",
    "        self.sigma_n = nn.Parameter(torch.tensor(sigma_n), requires_grad=True)  # noise variance (Hyperparameter)\n",
    "        self.device = device\n",
    "        self.D = self.Y_train.shape[1] # output dim (=7)\n",
    "        self.N = self.X_train.shape[0] \n",
    "        self.Sigma = torch.diag(torch.ones(self.D)) * self.sigma_n\n",
    "    \n",
    "    def fit(self, X_test):\n",
    "        \"\"\"\n",
    "        calculate sufficient statistics\n",
    "        \"\"\"\n",
    "        self.M = X_test.shape[0]\n",
    "        self.K_X_X = self.K(self.X_train, self.X_train)\n",
    "        self.K_X_X = torch.block_diag(*[self.K_X_X]*self.D) # coregionalisation matrix (C) is an identity matrix with DxD\n",
    "        self.K_Xt_X = self.K(X_test, self.X_train)\n",
    "        self.K_Xt_X = torch.block_diag(*[self.K_Xt_X]*self.D)\n",
    "        self.K_X_Xt = self.K_Xt_X.T\n",
    "        self.K_Xt_Xt = self.K(X_test, X_test)\n",
    "        self.K_Xt_Xt = torch.block_diag(*[self.K_Xt_Xt]*self.D)\n",
    "        # self.Sigma = torch.eye(self.D).to(self.device) * self.sigma_n\n",
    "        # self.I = torch.eye(self.N)\n",
    "        self.vec_Y = self.Y_train.T.reshape(self.D*self.N) # Y concat\n",
    "\n",
    "    def __NLL_term_1__(self):\n",
    "        return -0.5*(self.M*self.D) * torch.log(torch.tensor([2*torch.pi]))\n",
    "\n",
    "    def __NLL_term_2__(self):\n",
    "        I = torch.eye(self.N) # Omega <- I\n",
    "        Sigma = torch.diag(torch.ones(self.D)) * self.sigma_n\n",
    "        new = torch.kron(Sigma, I).to(self.device) \n",
    "        K = self.K_X_X + new \n",
    "        return -0.5 * torch.log(torch.det(K))\n",
    "\n",
    "    def __NLL_term_3__(self):\n",
    "        I = torch.eye(self.N) # Omega <- I\n",
    "        Sigma = torch.diag(torch.ones(self.D)) * self.sigma_n\n",
    "        K = self.K_X_X + torch.kron(Sigma, I).to(self.device)  \n",
    "        return -0.5 * self.vec_Y.T @ torch.linalg.inv(K) @ self.vec_Y\n",
    "\n",
    "    def predict(self):\n",
    "        \n",
    "        K_X_X, K_X_Xt, K_Xt_X, K_Xt_Xt, Sigma, vec_Y = self.K_X_X, self.K_X_Xt, self.K_Xt_X, self.K_Xt_Xt, self.Sigma, self.vec_Y\n",
    "        I = torch.eye(self.N)\n",
    "\n",
    "        # predictive mean, covariance, variance\n",
    "        mean = K_Xt_X @ torch.linalg.inv( K_X_X + torch.kron(Sigma, I).to(self.device) ) @ vec_Y\n",
    "        cov = K_Xt_Xt - K_Xt_X @ torch.linalg.inv( K_X_X + torch.kron(Sigma,I).to(self.device) ) @ K_X_Xt\n",
    "        var = torch.diag(cov)\n",
    "\n",
    "        self.predictive_distribution = {'mean': mean, 'cov':cov, 'var':var}\n",
    "\n",
    "        return mean.reshape(self.D, -1).T\n",
    "    \n",
    "    def calculate_NLL(self):\n",
    "        return self.__NLL_term_1__().to(self.device) + self.__NLL_term_2__().to(self.device) + self.__NLL_term_3__().to(self.device)\n"
   ]
  },
  {
   "cell_type": "code",
   "execution_count": 22,
   "metadata": {},
   "outputs": [
    {
     "name": "stdout",
     "output_type": "stream",
     "text": [
      "Initial Parameter: 0.05000000074505806\n",
      "\n",
      "[Iteration 0]\n",
      "NLL: -983698.0625\n",
      "Paremeter:  -18.446638107299805\n",
      "MSE: 377.1168756380121\n",
      "\n",
      "[Iteration 1]\n",
      "NLL: -inf\n",
      "Paremeter:  nan\n",
      "MSE: 377.1168756380121\n",
      "\n",
      "[Iteration 2]\n",
      "NLL: nan\n",
      "Paremeter:  nan\n"
     ]
    },
    {
     "ename": "KeyboardInterrupt",
     "evalue": "",
     "output_type": "error",
     "traceback": [
      "\u001b[1;31m---------------------------------------------------------------------------\u001b[0m",
      "\u001b[1;31mKeyboardInterrupt\u001b[0m                         Traceback (most recent call last)",
      "\u001b[1;32mc:\\Users\\YOUNGBIN\\Documents\\Jupyter Lab\\Advanced-Machine-Learning\\2. Gaussian Process Regression\\model.ipynb Cell 9'\u001b[0m in \u001b[0;36m<cell line: 8>\u001b[1;34m()\u001b[0m\n\u001b[0;32m     <a href='vscode-notebook-cell:/c%3A/Users/YOUNGBIN/Documents/Jupyter%20Lab/Advanced-Machine-Learning/2.%20Gaussian%20Process%20Regression/model.ipynb#ch0000069?line=14'>15</a>\u001b[0m \u001b[39mfor\u001b[39;00m i \u001b[39min\u001b[39;00m \u001b[39mrange\u001b[39m(\u001b[39mlen\u001b[39m(\u001b[39mlist\u001b[39m(model\u001b[39m.\u001b[39mparameters()))):\n\u001b[0;32m     <a href='vscode-notebook-cell:/c%3A/Users/YOUNGBIN/Documents/Jupyter%20Lab/Advanced-Machine-Learning/2.%20Gaussian%20Process%20Regression/model.ipynb#ch0000069?line=15'>16</a>\u001b[0m     \u001b[39mprint\u001b[39m(\u001b[39m'\u001b[39m\u001b[39mParemeter: \u001b[39m\u001b[39m'\u001b[39m, \u001b[39mlist\u001b[39m(model\u001b[39m.\u001b[39mparameters())[i]\u001b[39m.\u001b[39mitem())\n\u001b[1;32m---> <a href='vscode-notebook-cell:/c%3A/Users/YOUNGBIN/Documents/Jupyter%20Lab/Advanced-Machine-Learning/2.%20Gaussian%20Process%20Regression/model.ipynb#ch0000069?line=16'>17</a>\u001b[0m pred \u001b[39m=\u001b[39m model\u001b[39m.\u001b[39;49mpredict()\n\u001b[0;32m     <a href='vscode-notebook-cell:/c%3A/Users/YOUNGBIN/Documents/Jupyter%20Lab/Advanced-Machine-Learning/2.%20Gaussian%20Process%20Regression/model.ipynb#ch0000069?line=17'>18</a>\u001b[0m mse \u001b[39m=\u001b[39m nn\u001b[39m.\u001b[39mMSELoss()(pred, Y_test)\u001b[39m.\u001b[39mitem()\n\u001b[0;32m     <a href='vscode-notebook-cell:/c%3A/Users/YOUNGBIN/Documents/Jupyter%20Lab/Advanced-Machine-Learning/2.%20Gaussian%20Process%20Regression/model.ipynb#ch0000069?line=18'>19</a>\u001b[0m \u001b[39mprint\u001b[39m(\u001b[39mf\u001b[39m\u001b[39m\"\u001b[39m\u001b[39mMSE:\u001b[39m\u001b[39m\"\u001b[39m, mse)\n",
      "\u001b[1;32mc:\\Users\\YOUNGBIN\\Documents\\Jupyter Lab\\Advanced-Machine-Learning\\2. Gaussian Process Regression\\model.ipynb Cell 8'\u001b[0m in \u001b[0;36mGP_Regression.predict\u001b[1;34m(self)\u001b[0m\n\u001b[0;32m     <a href='vscode-notebook-cell:/c%3A/Users/YOUNGBIN/Documents/Jupyter%20Lab/Advanced-Machine-Learning/2.%20Gaussian%20Process%20Regression/model.ipynb#ch0000010?line=49'>50</a>\u001b[0m \u001b[39m# predictive mean, covariance, variance\u001b[39;00m\n\u001b[0;32m     <a href='vscode-notebook-cell:/c%3A/Users/YOUNGBIN/Documents/Jupyter%20Lab/Advanced-Machine-Learning/2.%20Gaussian%20Process%20Regression/model.ipynb#ch0000010?line=50'>51</a>\u001b[0m mean \u001b[39m=\u001b[39m K_Xt_X \u001b[39m@\u001b[39m torch\u001b[39m.\u001b[39mlinalg\u001b[39m.\u001b[39minv( K_X_X \u001b[39m+\u001b[39m torch\u001b[39m.\u001b[39mkron(Sigma, I)\u001b[39m.\u001b[39mto(\u001b[39mself\u001b[39m\u001b[39m.\u001b[39mdevice) ) \u001b[39m@\u001b[39m vec_Y\n\u001b[1;32m---> <a href='vscode-notebook-cell:/c%3A/Users/YOUNGBIN/Documents/Jupyter%20Lab/Advanced-Machine-Learning/2.%20Gaussian%20Process%20Regression/model.ipynb#ch0000010?line=51'>52</a>\u001b[0m cov \u001b[39m=\u001b[39m K_Xt_Xt \u001b[39m-\u001b[39m K_Xt_X \u001b[39m@\u001b[39m torch\u001b[39m.\u001b[39;49mlinalg\u001b[39m.\u001b[39;49minv( K_X_X \u001b[39m+\u001b[39;49m torch\u001b[39m.\u001b[39;49mkron(Sigma,I)\u001b[39m.\u001b[39;49mto(\u001b[39mself\u001b[39;49m\u001b[39m.\u001b[39;49mdevice) ) \u001b[39m@\u001b[39m K_X_Xt\n\u001b[0;32m     <a href='vscode-notebook-cell:/c%3A/Users/YOUNGBIN/Documents/Jupyter%20Lab/Advanced-Machine-Learning/2.%20Gaussian%20Process%20Regression/model.ipynb#ch0000010?line=52'>53</a>\u001b[0m var \u001b[39m=\u001b[39m torch\u001b[39m.\u001b[39mdiag(cov)\n\u001b[0;32m     <a href='vscode-notebook-cell:/c%3A/Users/YOUNGBIN/Documents/Jupyter%20Lab/Advanced-Machine-Learning/2.%20Gaussian%20Process%20Regression/model.ipynb#ch0000010?line=54'>55</a>\u001b[0m \u001b[39mself\u001b[39m\u001b[39m.\u001b[39mpredictive_distribution \u001b[39m=\u001b[39m {\u001b[39m'\u001b[39m\u001b[39mmean\u001b[39m\u001b[39m'\u001b[39m: mean, \u001b[39m'\u001b[39m\u001b[39mcov\u001b[39m\u001b[39m'\u001b[39m:cov, \u001b[39m'\u001b[39m\u001b[39mvar\u001b[39m\u001b[39m'\u001b[39m:var}\n",
      "\u001b[1;31mKeyboardInterrupt\u001b[0m: "
     ]
    }
   ],
   "source": [
    "model = GP_Regression(X_train, Y_train, GaussianKernel(), sigma_n=0.05, device=device)\n",
    "model.fit(X_test)\n",
    "\n",
    "optimizer = torch.optim.SGD(model.parameters(), lr=0.00002)\n",
    "n_iter=50\n",
    "print(f'Initial Parameter: {list(model.parameters())[0].item()}')\n",
    "print('')\n",
    "for i in range(n_iter):\n",
    "    print(f'[Iteration {i}]')\n",
    "    nll = model.calculate_NLL()\n",
    "    optimizer.zero_grad()\n",
    "    nll.backward() # calculate derivatives\n",
    "    optimizer.step() # update parameters\n",
    "    print(f\"NLL: {nll.item()}\")\n",
    "    for i in range(len(list(model.parameters()))):\n",
    "        print('Paremeter: ', list(model.parameters())[i].item())\n",
    "    pred = model.predict()\n",
    "    mse = nn.MSELoss()(pred, Y_test).item()\n",
    "    print(f\"MSE:\", mse)\n",
    "    print(\"\")\n"
   ]
  },
  {
   "cell_type": "markdown",
   "metadata": {},
   "source": [
    "# 3. Main"
   ]
  },
  {
   "cell_type": "code",
   "execution_count": null,
   "metadata": {},
   "outputs": [],
   "source": []
  }
 ],
 "metadata": {
  "interpreter": {
   "hash": "2f37873089bc99999a4c22445a6971dc9322bb05dc63dba22dd50e8a2bf7bc1c"
  },
  "kernelspec": {
   "display_name": "Python 3.8.12 ('AML')",
   "language": "python",
   "name": "python3"
  },
  "language_info": {
   "codemirror_mode": {
    "name": "ipython",
    "version": 3
   },
   "file_extension": ".py",
   "mimetype": "text/x-python",
   "name": "python",
   "nbconvert_exporter": "python",
   "pygments_lexer": "ipython3",
   "version": "3.8.12"
  },
  "orig_nbformat": 4
 },
 "nbformat": 4,
 "nbformat_minor": 2
}
