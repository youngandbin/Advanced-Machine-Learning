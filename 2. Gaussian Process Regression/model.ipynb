{
 "cells": [
  {
   "cell_type": "markdown",
   "metadata": {},
   "source": [
    "# 0. Data"
   ]
  },
  {
   "cell_type": "code",
   "execution_count": 1,
   "metadata": {},
   "outputs": [],
   "source": [
    "import pandas as pd\n",
    "import numpy as np\n",
    "from sklearn.model_selection import train_test_split"
   ]
  },
  {
   "cell_type": "code",
   "execution_count": 2,
   "metadata": {},
   "outputs": [
    {
     "name": "stdout",
     "output_type": "stream",
     "text": [
      "train set:  (31587, 21) (31587, 7)\n",
      "valid set:  (7897, 21) (7897, 7)\n",
      "test set:  (5000, 21) (5000, 7)\n"
     ]
    }
   ],
   "source": [
    "'split data'\n",
    "'first 21 columns are input variables and last 7 columns are output variables'\n",
    "\n",
    "train_data = pd.read_csv('./data/SARCOSTst.csv', header=None)\n",
    "test_data = pd.read_csv('./data/SARCOSTrn.csv', header=None)\n",
    "\n",
    "X_train, X_valid, Y_train, Y_valid = train_test_split(train_data.iloc[:,:21], train_data.iloc[:,-7:], test_size=0.2)\n",
    "X_test, Y_test = test_data.iloc[:,:21], test_data.iloc[:,-7:]\n",
    "\n",
    "print('train set: ', X_train.shape, Y_train.shape)\n",
    "print('valid set: ', X_valid.shape, Y_valid.shape)\n",
    "print('test set: ', X_test.shape, Y_test.shape)"
   ]
  },
  {
   "cell_type": "markdown",
   "metadata": {},
   "source": [
    "# 1. Nonlinear GP regression\n",
    "- Gaussian kernel"
   ]
  },
  {
   "cell_type": "code",
   "execution_count": 3,
   "metadata": {},
   "outputs": [],
   "source": [
    "class GaussianKernel:\n",
    "    \"\"\"\n",
    "    isotropic Gaussian kernel\n",
    "    :input: X1 (N*D), X2 (M*D)\n",
    "    :output: covariance matrix (N*M)\n",
    "    \"\"\"\n",
    "    def __init__(self, sigma_k=1):\n",
    "        self.sigma_k = sigma_k # kernel variance (Hyperparameter !)\n",
    "\n",
    "    def __call__(self, X1, X2):\n",
    "        return np.exp(-(np.sum(X1**2, axis=1).values.reshape(-1, 1) +\n",
    "                        np.sum(X2**2, axis=1).values.reshape(1, -1) - 2*X1@X2.T) / pow(self.sigma_k, 2))\n"
   ]
  },
  {
   "cell_type": "code",
   "execution_count": 4,
   "metadata": {},
   "outputs": [],
   "source": [
    "class GaussianProcessRegression:\n",
    "    def __init__(self, X_train, Y_train, K=GaussianKernel(), sigma_n=1):\n",
    "        self.X_train = X_train\n",
    "        self.Y_train = Y_train\n",
    "        self.K = K\n",
    "        self.sigma_n = sigma_n  # noise variance (Hyperparameter !)\n",
    "        self.predictive_distribution = None\n",
    "        self.temp = None\n",
    "\n",
    "    def predict(self, X_test):\n",
    "        D = self.Y_train.shape[1]\n",
    "        C = np.identity(D) # coregionalisation matrix (used for multi-output model) # 7x7\n",
    "        K_X_X = self.K(self.X_train, self.X_train)  # 31587x31587\n",
    "        K_X_X = np.kron(C, K_X_X)\n",
    "        K_X_Xt = self.K(self.X_train, X_test); \n",
    "        K_X_Xt = np.kron(C, K_X_Xt)\n",
    "        K_Xt_X = self.K(X_test, self.X_train); \n",
    "        K_Xt_X = np.kron(C, K_Xt_X)\n",
    "        K_Xt_Xt = self.K(X_test, X_test); \n",
    "        K_Xt_Xt = np.kron(C, K_Xt_Xt)\n",
    "        Sigma = self.sigma_n * np.identity(D)\n",
    "        I = np.identity(len(self.X_train))\n",
    "        y_concat = self.Y_train.T.stack(level=-1).values\n",
    "\n",
    "        # predictive mean, covariance, variance\n",
    "        mean = K_Xt_X @ np.linalg.inv( K_X_X + np.kron(Sigma,I) ) @ y_concat\n",
    "        cov = K_Xt_Xt - K_Xt_X @ np.linalg.inv( K_X_X + np.kron(Sigma,I) ) @ K_X_Xt\n",
    "        var = np.diag(cov)\n",
    "\n",
    "        self.predictive_distribution = {'mean': mean, 'cov':cov, 'var':var}\n",
    "        self.temp = [C, K_X_X, K_X_Xt, K_Xt_X, K_Xt_Xt, Sigma, I, y_concat]\n",
    "\n",
    "        return pd.DataFrame(mean.reshape(D, -1)).T\n"
   ]
  },
  {
   "cell_type": "code",
   "execution_count": 5,
   "metadata": {},
   "outputs": [
    {
     "ename": "MemoryError",
     "evalue": "Unable to allocate 364. GiB for an array with shape (49, 997738569) and data type float64",
     "output_type": "error",
     "traceback": [
      "\u001b[1;31m---------------------------------------------------------------------------\u001b[0m",
      "\u001b[1;31mMemoryError\u001b[0m                               Traceback (most recent call last)",
      "\u001b[1;32mc:\\Users\\YOUNGBIN\\Documents\\Jupyter Lab\\Advanced-Machine-Learning\\2. Gaussian Process Regression\\model.ipynb Cell 7'\u001b[0m in \u001b[0;36m<cell line: 2>\u001b[1;34m()\u001b[0m\n\u001b[0;32m      <a href='vscode-notebook-cell:/c%3A/Users/YOUNGBIN/Documents/Jupyter%20Lab/Advanced-Machine-Learning/2.%20Gaussian%20Process%20Regression/model.ipynb#ch0000006?line=0'>1</a>\u001b[0m model \u001b[39m=\u001b[39m GaussianProcessRegression(X_train, Y_train)\n\u001b[1;32m----> <a href='vscode-notebook-cell:/c%3A/Users/YOUNGBIN/Documents/Jupyter%20Lab/Advanced-Machine-Learning/2.%20Gaussian%20Process%20Regression/model.ipynb#ch0000006?line=1'>2</a>\u001b[0m pred \u001b[39m=\u001b[39m model\u001b[39m.\u001b[39;49mpredict(X_test)\n\u001b[0;32m      <a href='vscode-notebook-cell:/c%3A/Users/YOUNGBIN/Documents/Jupyter%20Lab/Advanced-Machine-Learning/2.%20Gaussian%20Process%20Regression/model.ipynb#ch0000006?line=3'>4</a>\u001b[0m MSE \u001b[39m=\u001b[39m ((pred\u001b[39m.\u001b[39mvalues \u001b[39m-\u001b[39m Y_test\u001b[39m.\u001b[39mvalues)\u001b[39m*\u001b[39m\u001b[39m*\u001b[39m\u001b[39m2\u001b[39m)\u001b[39m.\u001b[39mmean(axis\u001b[39m=\u001b[39m\u001b[39m1\u001b[39m)\u001b[39m.\u001b[39mmean() \u001b[39m# MSE\u001b[39;00m\n\u001b[0;32m      <a href='vscode-notebook-cell:/c%3A/Users/YOUNGBIN/Documents/Jupyter%20Lab/Advanced-Machine-Learning/2.%20Gaussian%20Process%20Regression/model.ipynb#ch0000006?line=5'>6</a>\u001b[0m C \u001b[39m=\u001b[39m model\u001b[39m.\u001b[39mtemp[\u001b[39m0\u001b[39m]\n",
      "\u001b[1;32mc:\\Users\\YOUNGBIN\\Documents\\Jupyter Lab\\Advanced-Machine-Learning\\2. Gaussian Process Regression\\model.ipynb Cell 6'\u001b[0m in \u001b[0;36mGaussianProcessRegression.predict\u001b[1;34m(self, X_test)\u001b[0m\n\u001b[0;32m     <a href='vscode-notebook-cell:/c%3A/Users/YOUNGBIN/Documents/Jupyter%20Lab/Advanced-Machine-Learning/2.%20Gaussian%20Process%20Regression/model.ipynb#ch0000005?line=11'>12</a>\u001b[0m C \u001b[39m=\u001b[39m np\u001b[39m.\u001b[39midentity(D) \u001b[39m# coregionalisation matrix (used for multi-output model) # 7x7\u001b[39;00m\n\u001b[0;32m     <a href='vscode-notebook-cell:/c%3A/Users/YOUNGBIN/Documents/Jupyter%20Lab/Advanced-Machine-Learning/2.%20Gaussian%20Process%20Regression/model.ipynb#ch0000005?line=12'>13</a>\u001b[0m K_X_X \u001b[39m=\u001b[39m \u001b[39mself\u001b[39m\u001b[39m.\u001b[39mK(\u001b[39mself\u001b[39m\u001b[39m.\u001b[39mX_train, \u001b[39mself\u001b[39m\u001b[39m.\u001b[39mX_train)  \u001b[39m# 31587x31587\u001b[39;00m\n\u001b[1;32m---> <a href='vscode-notebook-cell:/c%3A/Users/YOUNGBIN/Documents/Jupyter%20Lab/Advanced-Machine-Learning/2.%20Gaussian%20Process%20Regression/model.ipynb#ch0000005?line=13'>14</a>\u001b[0m K_X_X \u001b[39m=\u001b[39m np\u001b[39m.\u001b[39;49mkron(C, K_X_X)\n\u001b[0;32m     <a href='vscode-notebook-cell:/c%3A/Users/YOUNGBIN/Documents/Jupyter%20Lab/Advanced-Machine-Learning/2.%20Gaussian%20Process%20Regression/model.ipynb#ch0000005?line=14'>15</a>\u001b[0m K_X_Xt \u001b[39m=\u001b[39m \u001b[39mself\u001b[39m\u001b[39m.\u001b[39mK(\u001b[39mself\u001b[39m\u001b[39m.\u001b[39mX_train, X_test); \n\u001b[0;32m     <a href='vscode-notebook-cell:/c%3A/Users/YOUNGBIN/Documents/Jupyter%20Lab/Advanced-Machine-Learning/2.%20Gaussian%20Process%20Regression/model.ipynb#ch0000005?line=15'>16</a>\u001b[0m K_X_Xt \u001b[39m=\u001b[39m np\u001b[39m.\u001b[39mkron(C, K_X_Xt)\n",
      "File \u001b[1;32m<__array_function__ internals>:180\u001b[0m, in \u001b[0;36mkron\u001b[1;34m(*args, **kwargs)\u001b[0m\n",
      "File \u001b[1;32m~\\anaconda3\\envs\\AML\\lib\\site-packages\\numpy\\lib\\shape_base.py:1154\u001b[0m, in \u001b[0;36mkron\u001b[1;34m(a, b)\u001b[0m\n\u001b[0;32m   <a href='file:///c%3A/Users/YOUNGBIN/anaconda3/envs/AML/lib/site-packages/numpy/lib/shape_base.py?line=1151'>1152</a>\u001b[0m         bs \u001b[39m=\u001b[39m (\u001b[39m1\u001b[39m,)\u001b[39m*\u001b[39m(nda\u001b[39m-\u001b[39mndb) \u001b[39m+\u001b[39m bs\n\u001b[0;32m   <a href='file:///c%3A/Users/YOUNGBIN/anaconda3/envs/AML/lib/site-packages/numpy/lib/shape_base.py?line=1152'>1153</a>\u001b[0m         nd \u001b[39m=\u001b[39m nda\n\u001b[1;32m-> <a href='file:///c%3A/Users/YOUNGBIN/anaconda3/envs/AML/lib/site-packages/numpy/lib/shape_base.py?line=1153'>1154</a>\u001b[0m result \u001b[39m=\u001b[39m outer(a, b)\u001b[39m.\u001b[39mreshape(as_\u001b[39m+\u001b[39mbs)\n\u001b[0;32m   <a href='file:///c%3A/Users/YOUNGBIN/anaconda3/envs/AML/lib/site-packages/numpy/lib/shape_base.py?line=1154'>1155</a>\u001b[0m axis \u001b[39m=\u001b[39m nd\u001b[39m-\u001b[39m\u001b[39m1\u001b[39m\n\u001b[0;32m   <a href='file:///c%3A/Users/YOUNGBIN/anaconda3/envs/AML/lib/site-packages/numpy/lib/shape_base.py?line=1155'>1156</a>\u001b[0m \u001b[39mfor\u001b[39;00m _ \u001b[39min\u001b[39;00m \u001b[39mrange\u001b[39m(nd):\n",
      "File \u001b[1;32m<__array_function__ internals>:180\u001b[0m, in \u001b[0;36mouter\u001b[1;34m(*args, **kwargs)\u001b[0m\n",
      "File \u001b[1;32m~\\anaconda3\\envs\\AML\\lib\\site-packages\\numpy\\core\\numeric.py:936\u001b[0m, in \u001b[0;36mouter\u001b[1;34m(a, b, out)\u001b[0m\n\u001b[0;32m    <a href='file:///c%3A/Users/YOUNGBIN/anaconda3/envs/AML/lib/site-packages/numpy/core/numeric.py?line=933'>934</a>\u001b[0m a \u001b[39m=\u001b[39m asarray(a)\n\u001b[0;32m    <a href='file:///c%3A/Users/YOUNGBIN/anaconda3/envs/AML/lib/site-packages/numpy/core/numeric.py?line=934'>935</a>\u001b[0m b \u001b[39m=\u001b[39m asarray(b)\n\u001b[1;32m--> <a href='file:///c%3A/Users/YOUNGBIN/anaconda3/envs/AML/lib/site-packages/numpy/core/numeric.py?line=935'>936</a>\u001b[0m \u001b[39mreturn\u001b[39;00m multiply(a\u001b[39m.\u001b[39;49mravel()[:, newaxis], b\u001b[39m.\u001b[39;49mravel()[newaxis, :], out)\n",
      "\u001b[1;31mMemoryError\u001b[0m: Unable to allocate 364. GiB for an array with shape (49, 997738569) and data type float64"
     ]
    }
   ],
   "source": [
    "model = GaussianProcessRegression(X_train, Y_train)\n",
    "pred = model.predict(X_test)\n",
    "\n",
    "MSE = ((pred.values - Y_test.values)**2).mean(axis=1).mean() # MSE\n",
    "\n",
    "C = model.temp[0]\n",
    "K_X_X = model.temp[1]\n",
    "K_X_Xt = model.temp[2]\n",
    "K_Xt_X = model.temp[3]\n",
    "K_Xt_Xt = model.temp[4]\n",
    "Sigma = model.temp[5]\n",
    "I = model.temp[6]\n",
    "y_concat = model.temp[7]\n"
   ]
  },
  {
   "cell_type": "markdown",
   "metadata": {},
   "source": []
  },
  {
   "cell_type": "markdown",
   "metadata": {},
   "source": []
  },
  {
   "cell_type": "markdown",
   "metadata": {},
   "source": [
    "# 2.Linear GP regression \n",
    "- Standard dot product kernel\n",
    "    - k(a,b) = a^\\top b"
   ]
  },
  {
   "cell_type": "code",
   "execution_count": null,
   "metadata": {},
   "outputs": [],
   "source": [
    "class GaussianKernel:\n",
    "    \"\"\"\n",
    "    isotropic Gaussian kernel\n",
    "    :input: X1 (N*D), X2 (M*D)\n",
    "    :output: covariance matrix (N*M)\n",
    "    \"\"\"\n",
    "\n",
    "    def __init__(self, sigma_k=1):\n",
    "        self.sigma_k = sigma_k  # kernel variance (Hyperparameter !)\n",
    "\n",
    "    def __call__(self, X1, X2):\n",
    "        return np.exp(-(np.sum(X1**2, axis=1).values.reshape(-1, 1) +\n",
    "                        np.sum(X2**2, axis=1).values.reshape(1, -1) - 2*X1@X2.T) / pow(self.sigma_k, 2))\n"
   ]
  }
 ],
 "metadata": {
  "interpreter": {
   "hash": "2f37873089bc99999a4c22445a6971dc9322bb05dc63dba22dd50e8a2bf7bc1c"
  },
  "kernelspec": {
   "display_name": "Python 3.8.12 ('AML')",
   "language": "python",
   "name": "python3"
  },
  "language_info": {
   "codemirror_mode": {
    "name": "ipython",
    "version": 3
   },
   "file_extension": ".py",
   "mimetype": "text/x-python",
   "name": "python",
   "nbconvert_exporter": "python",
   "pygments_lexer": "ipython3",
   "version": "3.8.12"
  },
  "orig_nbformat": 4
 },
 "nbformat": 4,
 "nbformat_minor": 2
}
