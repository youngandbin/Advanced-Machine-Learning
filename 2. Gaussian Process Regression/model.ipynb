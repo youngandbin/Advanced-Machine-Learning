{
 "cells": [
  {
   "cell_type": "markdown",
   "metadata": {},
   "source": [
    "# 0. Data"
   ]
  },
  {
   "cell_type": "code",
   "execution_count": 12,
   "metadata": {},
   "outputs": [],
   "source": [
    "import pandas as pd\n",
    "import numpy as np\n",
    "from sklearn.model_selection import train_test_split\n"
   ]
  },
  {
   "cell_type": "code",
   "execution_count": 15,
   "metadata": {},
   "outputs": [],
   "source": [
    "# first 21 columns are input variables and last 7 columns are output variables\n",
    "\n",
    "train_data = pd.read_csv('./data/SARCOSTst.csv', header=None)\n",
    "test_data = pd.read_csv('./data/SARCOSTrn.csv', header=None)"
   ]
  },
  {
   "cell_type": "code",
   "execution_count": 16,
   "metadata": {},
   "outputs": [
    {
     "ename": "ValueError",
     "evalue": "test_size=1.0 should be either positive and smaller than the number of samples 7897 or a float in the (0, 1) range",
     "output_type": "error",
     "traceback": [
      "\u001b[1;31m---------------------------------------------------------------------------\u001b[0m",
      "\u001b[1;31mValueError\u001b[0m                                Traceback (most recent call last)",
      "\u001b[1;32mc:\\Users\\YOUNGBIN\\Documents\\Jupyter Lab\\Advanced-Machine-Learning\\2. Gaussian Process Regression\\model.ipynb Cell 4'\u001b[0m in \u001b[0;36m<cell line: 1>\u001b[1;34m()\u001b[0m\n\u001b[1;32m----> <a href='vscode-notebook-cell:/c%3A/Users/YOUNGBIN/Documents/Jupyter%20Lab/Advanced-Machine-Learning/2.%20Gaussian%20Process%20Regression/model.ipynb#ch0000005?line=0'>1</a>\u001b[0m X_train, y_train, X_valid, y_valid, X_test, y_test \u001b[39m=\u001b[39m train_valid_test_split(train_data, target\u001b[39m=\u001b[39;49m[\u001b[39m21\u001b[39;49m, \u001b[39m22\u001b[39;49m, \u001b[39m23\u001b[39;49m, \u001b[39m24\u001b[39;49m, \u001b[39m25\u001b[39;49m, \u001b[39m26\u001b[39;49m, \u001b[39m27\u001b[39;49m],\n\u001b[0;32m      <a href='vscode-notebook-cell:/c%3A/Users/YOUNGBIN/Documents/Jupyter%20Lab/Advanced-Machine-Learning/2.%20Gaussian%20Process%20Regression/model.ipynb#ch0000005?line=1'>2</a>\u001b[0m                                                                             train_size\u001b[39m=\u001b[39;49m\u001b[39m0.8\u001b[39;49m, valid_size\u001b[39m=\u001b[39;49m\u001b[39m0\u001b[39;49m, test_size\u001b[39m=\u001b[39;49m\u001b[39m0.2\u001b[39;49m)\n\u001b[0;32m      <a href='vscode-notebook-cell:/c%3A/Users/YOUNGBIN/Documents/Jupyter%20Lab/Advanced-Machine-Learning/2.%20Gaussian%20Process%20Regression/model.ipynb#ch0000005?line=3'>4</a>\u001b[0m \u001b[39mprint\u001b[39m(X_train\u001b[39m.\u001b[39mshape), \u001b[39mprint\u001b[39m(y_train\u001b[39m.\u001b[39mshape)\n\u001b[0;32m      <a href='vscode-notebook-cell:/c%3A/Users/YOUNGBIN/Documents/Jupyter%20Lab/Advanced-Machine-Learning/2.%20Gaussian%20Process%20Regression/model.ipynb#ch0000005?line=4'>5</a>\u001b[0m \u001b[39mprint\u001b[39m(X_valid\u001b[39m.\u001b[39mshape), \u001b[39mprint\u001b[39m(y_valid\u001b[39m.\u001b[39mshape)\n",
      "File \u001b[1;32m~\\anaconda3\\envs\\AML\\lib\\site-packages\\fast_ml\\model_development.py:63\u001b[0m, in \u001b[0;36mtrain_valid_test_split\u001b[1;34m(df, target, train_size, valid_size, test_size, method, sort_by_col, random_state)\u001b[0m\n\u001b[0;32m     <a href='file:///c%3A/Users/YOUNGBIN/anaconda3/envs/AML/lib/site-packages/fast_ml/model_development.py?line=60'>61</a>\u001b[0m df_train, df_rem \u001b[39m=\u001b[39m train_test_split(df, train_size\u001b[39m=\u001b[39mtrain_size, random_state\u001b[39m=\u001b[39mrandom_state)\n\u001b[0;32m     <a href='file:///c%3A/Users/YOUNGBIN/anaconda3/envs/AML/lib/site-packages/fast_ml/model_development.py?line=61'>62</a>\u001b[0m test_prop \u001b[39m=\u001b[39m test_size\u001b[39m/\u001b[39m(test_size\u001b[39m+\u001b[39mvalid_size)\n\u001b[1;32m---> <a href='file:///c%3A/Users/YOUNGBIN/anaconda3/envs/AML/lib/site-packages/fast_ml/model_development.py?line=62'>63</a>\u001b[0m df_valid, df_test \u001b[39m=\u001b[39m train_test_split(df_rem, test_size\u001b[39m=\u001b[39;49mtest_prop, random_state\u001b[39m=\u001b[39;49mrandom_state)\n\u001b[0;32m     <a href='file:///c%3A/Users/YOUNGBIN/anaconda3/envs/AML/lib/site-packages/fast_ml/model_development.py?line=64'>65</a>\u001b[0m X_train, y_train \u001b[39m=\u001b[39m df_train\u001b[39m.\u001b[39mdrop(columns\u001b[39m=\u001b[39mtarget)\u001b[39m.\u001b[39mcopy(), df_train[target]\u001b[39m.\u001b[39mcopy()\n\u001b[0;32m     <a href='file:///c%3A/Users/YOUNGBIN/anaconda3/envs/AML/lib/site-packages/fast_ml/model_development.py?line=65'>66</a>\u001b[0m X_valid, y_valid \u001b[39m=\u001b[39m df_valid\u001b[39m.\u001b[39mdrop(columns\u001b[39m=\u001b[39mtarget)\u001b[39m.\u001b[39mcopy(), df_valid[target]\u001b[39m.\u001b[39mcopy()\n",
      "File \u001b[1;32m~\\anaconda3\\envs\\AML\\lib\\site-packages\\sklearn\\model_selection\\_split.py:2420\u001b[0m, in \u001b[0;36mtrain_test_split\u001b[1;34m(test_size, train_size, random_state, shuffle, stratify, *arrays)\u001b[0m\n\u001b[0;32m   <a href='file:///c%3A/Users/YOUNGBIN/anaconda3/envs/AML/lib/site-packages/sklearn/model_selection/_split.py?line=2416'>2417</a>\u001b[0m arrays \u001b[39m=\u001b[39m indexable(\u001b[39m*\u001b[39marrays)\n\u001b[0;32m   <a href='file:///c%3A/Users/YOUNGBIN/anaconda3/envs/AML/lib/site-packages/sklearn/model_selection/_split.py?line=2418'>2419</a>\u001b[0m n_samples \u001b[39m=\u001b[39m _num_samples(arrays[\u001b[39m0\u001b[39m])\n\u001b[1;32m-> <a href='file:///c%3A/Users/YOUNGBIN/anaconda3/envs/AML/lib/site-packages/sklearn/model_selection/_split.py?line=2419'>2420</a>\u001b[0m n_train, n_test \u001b[39m=\u001b[39m _validate_shuffle_split(\n\u001b[0;32m   <a href='file:///c%3A/Users/YOUNGBIN/anaconda3/envs/AML/lib/site-packages/sklearn/model_selection/_split.py?line=2420'>2421</a>\u001b[0m     n_samples, test_size, train_size, default_test_size\u001b[39m=\u001b[39;49m\u001b[39m0.25\u001b[39;49m\n\u001b[0;32m   <a href='file:///c%3A/Users/YOUNGBIN/anaconda3/envs/AML/lib/site-packages/sklearn/model_selection/_split.py?line=2421'>2422</a>\u001b[0m )\n\u001b[0;32m   <a href='file:///c%3A/Users/YOUNGBIN/anaconda3/envs/AML/lib/site-packages/sklearn/model_selection/_split.py?line=2423'>2424</a>\u001b[0m \u001b[39mif\u001b[39;00m shuffle \u001b[39mis\u001b[39;00m \u001b[39mFalse\u001b[39;00m:\n\u001b[0;32m   <a href='file:///c%3A/Users/YOUNGBIN/anaconda3/envs/AML/lib/site-packages/sklearn/model_selection/_split.py?line=2424'>2425</a>\u001b[0m     \u001b[39mif\u001b[39;00m stratify \u001b[39mis\u001b[39;00m \u001b[39mnot\u001b[39;00m \u001b[39mNone\u001b[39;00m:\n",
      "File \u001b[1;32m~\\anaconda3\\envs\\AML\\lib\\site-packages\\sklearn\\model_selection\\_split.py:2043\u001b[0m, in \u001b[0;36m_validate_shuffle_split\u001b[1;34m(n_samples, test_size, train_size, default_test_size)\u001b[0m\n\u001b[0;32m   <a href='file:///c%3A/Users/YOUNGBIN/anaconda3/envs/AML/lib/site-packages/sklearn/model_selection/_split.py?line=2034'>2035</a>\u001b[0m train_size_type \u001b[39m=\u001b[39m np\u001b[39m.\u001b[39masarray(train_size)\u001b[39m.\u001b[39mdtype\u001b[39m.\u001b[39mkind\n\u001b[0;32m   <a href='file:///c%3A/Users/YOUNGBIN/anaconda3/envs/AML/lib/site-packages/sklearn/model_selection/_split.py?line=2036'>2037</a>\u001b[0m \u001b[39mif\u001b[39;00m (\n\u001b[0;32m   <a href='file:///c%3A/Users/YOUNGBIN/anaconda3/envs/AML/lib/site-packages/sklearn/model_selection/_split.py?line=2037'>2038</a>\u001b[0m     test_size_type \u001b[39m==\u001b[39m \u001b[39m\"\u001b[39m\u001b[39mi\u001b[39m\u001b[39m\"\u001b[39m\n\u001b[0;32m   <a href='file:///c%3A/Users/YOUNGBIN/anaconda3/envs/AML/lib/site-packages/sklearn/model_selection/_split.py?line=2038'>2039</a>\u001b[0m     \u001b[39mand\u001b[39;00m (test_size \u001b[39m>\u001b[39m\u001b[39m=\u001b[39m n_samples \u001b[39mor\u001b[39;00m test_size \u001b[39m<\u001b[39m\u001b[39m=\u001b[39m \u001b[39m0\u001b[39m)\n\u001b[0;32m   <a href='file:///c%3A/Users/YOUNGBIN/anaconda3/envs/AML/lib/site-packages/sklearn/model_selection/_split.py?line=2039'>2040</a>\u001b[0m     \u001b[39mor\u001b[39;00m test_size_type \u001b[39m==\u001b[39m \u001b[39m\"\u001b[39m\u001b[39mf\u001b[39m\u001b[39m\"\u001b[39m\n\u001b[0;32m   <a href='file:///c%3A/Users/YOUNGBIN/anaconda3/envs/AML/lib/site-packages/sklearn/model_selection/_split.py?line=2040'>2041</a>\u001b[0m     \u001b[39mand\u001b[39;00m (test_size \u001b[39m<\u001b[39m\u001b[39m=\u001b[39m \u001b[39m0\u001b[39m \u001b[39mor\u001b[39;00m test_size \u001b[39m>\u001b[39m\u001b[39m=\u001b[39m \u001b[39m1\u001b[39m)\n\u001b[0;32m   <a href='file:///c%3A/Users/YOUNGBIN/anaconda3/envs/AML/lib/site-packages/sklearn/model_selection/_split.py?line=2041'>2042</a>\u001b[0m ):\n\u001b[1;32m-> <a href='file:///c%3A/Users/YOUNGBIN/anaconda3/envs/AML/lib/site-packages/sklearn/model_selection/_split.py?line=2042'>2043</a>\u001b[0m     \u001b[39mraise\u001b[39;00m \u001b[39mValueError\u001b[39;00m(\n\u001b[0;32m   <a href='file:///c%3A/Users/YOUNGBIN/anaconda3/envs/AML/lib/site-packages/sklearn/model_selection/_split.py?line=2043'>2044</a>\u001b[0m         \u001b[39m\"\u001b[39m\u001b[39mtest_size=\u001b[39m\u001b[39m{0}\u001b[39;00m\u001b[39m should be either positive and smaller\u001b[39m\u001b[39m\"\u001b[39m\n\u001b[0;32m   <a href='file:///c%3A/Users/YOUNGBIN/anaconda3/envs/AML/lib/site-packages/sklearn/model_selection/_split.py?line=2044'>2045</a>\u001b[0m         \u001b[39m\"\u001b[39m\u001b[39m than the number of samples \u001b[39m\u001b[39m{1}\u001b[39;00m\u001b[39m or a float in the \u001b[39m\u001b[39m\"\u001b[39m\n\u001b[0;32m   <a href='file:///c%3A/Users/YOUNGBIN/anaconda3/envs/AML/lib/site-packages/sklearn/model_selection/_split.py?line=2045'>2046</a>\u001b[0m         \u001b[39m\"\u001b[39m\u001b[39m(0, 1) range\u001b[39m\u001b[39m\"\u001b[39m\u001b[39m.\u001b[39mformat(test_size, n_samples)\n\u001b[0;32m   <a href='file:///c%3A/Users/YOUNGBIN/anaconda3/envs/AML/lib/site-packages/sklearn/model_selection/_split.py?line=2046'>2047</a>\u001b[0m     )\n\u001b[0;32m   <a href='file:///c%3A/Users/YOUNGBIN/anaconda3/envs/AML/lib/site-packages/sklearn/model_selection/_split.py?line=2048'>2049</a>\u001b[0m \u001b[39mif\u001b[39;00m (\n\u001b[0;32m   <a href='file:///c%3A/Users/YOUNGBIN/anaconda3/envs/AML/lib/site-packages/sklearn/model_selection/_split.py?line=2049'>2050</a>\u001b[0m     train_size_type \u001b[39m==\u001b[39m \u001b[39m\"\u001b[39m\u001b[39mi\u001b[39m\u001b[39m\"\u001b[39m\n\u001b[0;32m   <a href='file:///c%3A/Users/YOUNGBIN/anaconda3/envs/AML/lib/site-packages/sklearn/model_selection/_split.py?line=2050'>2051</a>\u001b[0m     \u001b[39mand\u001b[39;00m (train_size \u001b[39m>\u001b[39m\u001b[39m=\u001b[39m n_samples \u001b[39mor\u001b[39;00m train_size \u001b[39m<\u001b[39m\u001b[39m=\u001b[39m \u001b[39m0\u001b[39m)\n\u001b[0;32m   <a href='file:///c%3A/Users/YOUNGBIN/anaconda3/envs/AML/lib/site-packages/sklearn/model_selection/_split.py?line=2051'>2052</a>\u001b[0m     \u001b[39mor\u001b[39;00m train_size_type \u001b[39m==\u001b[39m \u001b[39m\"\u001b[39m\u001b[39mf\u001b[39m\u001b[39m\"\u001b[39m\n\u001b[0;32m   <a href='file:///c%3A/Users/YOUNGBIN/anaconda3/envs/AML/lib/site-packages/sklearn/model_selection/_split.py?line=2052'>2053</a>\u001b[0m     \u001b[39mand\u001b[39;00m (train_size \u001b[39m<\u001b[39m\u001b[39m=\u001b[39m \u001b[39m0\u001b[39m \u001b[39mor\u001b[39;00m train_size \u001b[39m>\u001b[39m\u001b[39m=\u001b[39m \u001b[39m1\u001b[39m)\n\u001b[0;32m   <a href='file:///c%3A/Users/YOUNGBIN/anaconda3/envs/AML/lib/site-packages/sklearn/model_selection/_split.py?line=2053'>2054</a>\u001b[0m ):\n\u001b[0;32m   <a href='file:///c%3A/Users/YOUNGBIN/anaconda3/envs/AML/lib/site-packages/sklearn/model_selection/_split.py?line=2054'>2055</a>\u001b[0m     \u001b[39mraise\u001b[39;00m \u001b[39mValueError\u001b[39;00m(\n\u001b[0;32m   <a href='file:///c%3A/Users/YOUNGBIN/anaconda3/envs/AML/lib/site-packages/sklearn/model_selection/_split.py?line=2055'>2056</a>\u001b[0m         \u001b[39m\"\u001b[39m\u001b[39mtrain_size=\u001b[39m\u001b[39m{0}\u001b[39;00m\u001b[39m should be either positive and smaller\u001b[39m\u001b[39m\"\u001b[39m\n\u001b[0;32m   <a href='file:///c%3A/Users/YOUNGBIN/anaconda3/envs/AML/lib/site-packages/sklearn/model_selection/_split.py?line=2056'>2057</a>\u001b[0m         \u001b[39m\"\u001b[39m\u001b[39m than the number of samples \u001b[39m\u001b[39m{1}\u001b[39;00m\u001b[39m or a float in the \u001b[39m\u001b[39m\"\u001b[39m\n\u001b[0;32m   <a href='file:///c%3A/Users/YOUNGBIN/anaconda3/envs/AML/lib/site-packages/sklearn/model_selection/_split.py?line=2057'>2058</a>\u001b[0m         \u001b[39m\"\u001b[39m\u001b[39m(0, 1) range\u001b[39m\u001b[39m\"\u001b[39m\u001b[39m.\u001b[39mformat(train_size, n_samples)\n\u001b[0;32m   <a href='file:///c%3A/Users/YOUNGBIN/anaconda3/envs/AML/lib/site-packages/sklearn/model_selection/_split.py?line=2058'>2059</a>\u001b[0m     )\n",
      "\u001b[1;31mValueError\u001b[0m: test_size=1.0 should be either positive and smaller than the number of samples 7897 or a float in the (0, 1) range"
     ]
    }
   ],
   "source": [
    "X_train, X_valid, y_train, y_valid = train_test_split(X_rem,y_rem, test_size=0.5)\n",
    "\n"
   ]
  },
  {
   "cell_type": "markdown",
   "metadata": {},
   "source": [
    "# 1. Nonlinear GP regression\n",
    "- Gaussian kernel"
   ]
  },
  {
   "cell_type": "code",
   "execution_count": null,
   "metadata": {},
   "outputs": [],
   "source": []
  },
  {
   "cell_type": "markdown",
   "metadata": {},
   "source": [
    "# 2.Linear GP regression \n",
    "- Standard dot product kernel\n",
    "    - k(a,b) = a^\\top b"
   ]
  }
 ],
 "metadata": {
  "interpreter": {
   "hash": "2f37873089bc99999a4c22445a6971dc9322bb05dc63dba22dd50e8a2bf7bc1c"
  },
  "kernelspec": {
   "display_name": "Python 3.8.12 ('AML')",
   "language": "python",
   "name": "python3"
  },
  "language_info": {
   "codemirror_mode": {
    "name": "ipython",
    "version": 3
   },
   "file_extension": ".py",
   "mimetype": "text/x-python",
   "name": "python",
   "nbconvert_exporter": "python",
   "pygments_lexer": "ipython3",
   "version": "3.8.12"
  },
  "orig_nbformat": 4
 },
 "nbformat": 4,
 "nbformat_minor": 2
}
