{
 "cells": [
  {
   "cell_type": "markdown",
   "metadata": {},
   "source": [
    "# 0. Data"
   ]
  },
  {
   "cell_type": "code",
   "execution_count": 30,
   "metadata": {},
   "outputs": [],
   "source": [
    "import pandas as pd\n",
    "import numpy as np\n",
    "from sklearn.model_selection import train_test_split\n"
   ]
  },
  {
   "cell_type": "code",
   "execution_count": 41,
   "metadata": {},
   "outputs": [
    {
     "name": "stdout",
     "output_type": "stream",
     "text": [
      "train set:  (31587, 21) (31587, 7)\n",
      "valid set:  (7897, 21) (7897, 7)\n",
      "test set:  (5000, 21) (5000, 7)\n"
     ]
    }
   ],
   "source": [
    "'split data'\n",
    "'first 21 columns are input variables and last 7 columns are output variables'\n",
    "\n",
    "train_data = pd.read_csv('./data/SARCOSTst.csv', header=None)\n",
    "test_data = pd.read_csv('./data/SARCOSTrn.csv', header=None)\n",
    "\n",
    "X_train, X_valid, Y_train, Y_valid = train_test_split(train_data.iloc[:,:21], train_data.iloc[:,-7:], test_size=0.2)\n",
    "X_test, Y_test = test_data.iloc[:,:21], test_data.iloc[:,-7:]\n",
    "\n",
    "print('train set: ', X_train.shape, Y_train.shape)\n",
    "print('valid set: ', X_valid.shape, Y_valid.shape)\n",
    "print('test set: ', X_test.shape, Y_test.shape)"
   ]
  },
  {
   "cell_type": "markdown",
   "metadata": {},
   "source": [
    "# 1. Nonlinear GP regression\n",
    "- Gaussian kernel"
   ]
  },
  {
   "cell_type": "code",
   "execution_count": 44,
   "metadata": {},
   "outputs": [],
   "source": [
    "class GaussianKernel:\n",
    "    \"\"\"\n",
    "    isotropic Gaussian kernel\n",
    "    :input: X1 (N*D), X2 (M*D)\n",
    "    :output: covariance matrix C (N*M)\n",
    "    \"\"\"\n",
    "    def __init__(self, sigma_k=1):\n",
    "        self.sigma_k = sigma_k # kernel variance (Hyperparameter !)\n",
    "\n",
    "    def __call__(self, X1, X2):\n",
    "        C = np.exp(-(np.sum(X1**2, axis=1).values.reshape(-1, 1) +\n",
    "                        np.sum(X2**2, axis=1).values.reshape(1, -1) - 2*X1@X2.T) / pow(self.sigma_k, 2) )\n",
    "        return C"
   ]
  },
  {
   "cell_type": "code",
   "execution_count": null,
   "metadata": {},
   "outputs": [],
   "source": [
    "class GaussianProcessRegression:\n",
    "    def __init__(self, X_train, Y_train, K=GaussianKernel(), sigma_n=1):\n",
    "        self.X_train = X_train\n",
    "        self.Y_train = Y_train\n",
    "        self.K = K\n",
    "        self.sigma_n = sigma_n  # noise variance (Hyperparameter !)\n",
    "        self.predictive_distribution = None\n",
    "        self.C_train = K(X_train, X_train)\n",
    "\n",
    "    def predict(self, X_test):\n",
    "        D = self.Y_train.shape[1]\n",
    "        c_matrix = np.identity(D) # coregionalisation matrix (used for vector-valued model)\n",
    "        K_Xt_X = self.K(X_test, self.X_train)\n",
    "        K_X_X = self.K(self.X_train, self.X_train)\n",
    "        Sigma = self.sigma_n * np.identity(D)\n",
    "        y_concat = self.Y_train\n",
    "\n"
   ]
  },
  {
   "cell_type": "code",
   "execution_count": 55,
   "metadata": {},
   "outputs": [
    {
     "data": {
      "text/html": [
       "<div>\n",
       "<style scoped>\n",
       "    .dataframe tbody tr th:only-of-type {\n",
       "        vertical-align: middle;\n",
       "    }\n",
       "\n",
       "    .dataframe tbody tr th {\n",
       "        vertical-align: top;\n",
       "    }\n",
       "\n",
       "    .dataframe thead th {\n",
       "        text-align: right;\n",
       "    }\n",
       "</style>\n",
       "<table border=\"1\" class=\"dataframe\">\n",
       "  <thead>\n",
       "    <tr style=\"text-align: right;\">\n",
       "      <th></th>\n",
       "      <th>21</th>\n",
       "      <th>22</th>\n",
       "      <th>23</th>\n",
       "      <th>24</th>\n",
       "      <th>25</th>\n",
       "      <th>26</th>\n",
       "      <th>27</th>\n",
       "    </tr>\n",
       "  </thead>\n",
       "  <tbody>\n",
       "    <tr>\n",
       "      <th>36152</th>\n",
       "      <td>39.037277</td>\n",
       "      <td>-44.735386</td>\n",
       "      <td>22.403183</td>\n",
       "      <td>52.728859</td>\n",
       "      <td>-1.618516</td>\n",
       "      <td>-2.946491</td>\n",
       "      <td>8.427116</td>\n",
       "    </tr>\n",
       "    <tr>\n",
       "      <th>5000</th>\n",
       "      <td>-15.615760</td>\n",
       "      <td>-60.307045</td>\n",
       "      <td>40.478531</td>\n",
       "      <td>28.765852</td>\n",
       "      <td>2.852310</td>\n",
       "      <td>-1.158578</td>\n",
       "      <td>7.125257</td>\n",
       "    </tr>\n",
       "    <tr>\n",
       "      <th>25415</th>\n",
       "      <td>13.456683</td>\n",
       "      <td>-20.796692</td>\n",
       "      <td>10.498929</td>\n",
       "      <td>27.005915</td>\n",
       "      <td>-0.970999</td>\n",
       "      <td>0.251025</td>\n",
       "      <td>3.572284</td>\n",
       "    </tr>\n",
       "    <tr>\n",
       "      <th>21629</th>\n",
       "      <td>1.902965</td>\n",
       "      <td>-13.864461</td>\n",
       "      <td>2.670248</td>\n",
       "      <td>15.111175</td>\n",
       "      <td>-0.849624</td>\n",
       "      <td>-0.579289</td>\n",
       "      <td>2.433015</td>\n",
       "    </tr>\n",
       "    <tr>\n",
       "      <th>34067</th>\n",
       "      <td>32.757721</td>\n",
       "      <td>-55.250778</td>\n",
       "      <td>21.193287</td>\n",
       "      <td>46.750130</td>\n",
       "      <td>-2.362372</td>\n",
       "      <td>-2.083188</td>\n",
       "      <td>8.284686</td>\n",
       "    </tr>\n",
       "    <tr>\n",
       "      <th>...</th>\n",
       "      <td>...</td>\n",
       "      <td>...</td>\n",
       "      <td>...</td>\n",
       "      <td>...</td>\n",
       "      <td>...</td>\n",
       "      <td>...</td>\n",
       "      <td>...</td>\n",
       "    </tr>\n",
       "    <tr>\n",
       "      <th>24496</th>\n",
       "      <td>6.116674</td>\n",
       "      <td>-31.806705</td>\n",
       "      <td>15.839424</td>\n",
       "      <td>35.016659</td>\n",
       "      <td>-0.182062</td>\n",
       "      <td>-2.471634</td>\n",
       "      <td>5.889440</td>\n",
       "    </tr>\n",
       "    <tr>\n",
       "      <th>30228</th>\n",
       "      <td>-8.291492</td>\n",
       "      <td>-26.913366</td>\n",
       "      <td>4.066059</td>\n",
       "      <td>7.221807</td>\n",
       "      <td>-1.395811</td>\n",
       "      <td>-1.486842</td>\n",
       "      <td>0.077239</td>\n",
       "    </tr>\n",
       "    <tr>\n",
       "      <th>12245</th>\n",
       "      <td>13.456683</td>\n",
       "      <td>-28.544479</td>\n",
       "      <td>17.174549</td>\n",
       "      <td>36.169720</td>\n",
       "      <td>0.546187</td>\n",
       "      <td>-3.533664</td>\n",
       "      <td>6.159775</td>\n",
       "    </tr>\n",
       "    <tr>\n",
       "      <th>4504</th>\n",
       "      <td>-2.920606</td>\n",
       "      <td>-16.295956</td>\n",
       "      <td>6.179588</td>\n",
       "      <td>18.568508</td>\n",
       "      <td>-0.940735</td>\n",
       "      <td>-1.660629</td>\n",
       "      <td>3.186091</td>\n",
       "    </tr>\n",
       "    <tr>\n",
       "      <th>11327</th>\n",
       "      <td>8.558269</td>\n",
       "      <td>-6.317759</td>\n",
       "      <td>-2.184748</td>\n",
       "      <td>5.643933</td>\n",
       "      <td>-1.395811</td>\n",
       "      <td>-0.946172</td>\n",
       "      <td>0.540670</td>\n",
       "    </tr>\n",
       "  </tbody>\n",
       "</table>\n",
       "<p>31587 rows × 7 columns</p>\n",
       "</div>"
      ],
      "text/plain": [
       "              21         22         23         24        25        26  \\\n",
       "36152  39.037277 -44.735386  22.403183  52.728859 -1.618516 -2.946491   \n",
       "5000  -15.615760 -60.307045  40.478531  28.765852  2.852310 -1.158578   \n",
       "25415  13.456683 -20.796692  10.498929  27.005915 -0.970999  0.251025   \n",
       "21629   1.902965 -13.864461   2.670248  15.111175 -0.849624 -0.579289   \n",
       "34067  32.757721 -55.250778  21.193287  46.750130 -2.362372 -2.083188   \n",
       "...          ...        ...        ...        ...       ...       ...   \n",
       "24496   6.116674 -31.806705  15.839424  35.016659 -0.182062 -2.471634   \n",
       "30228  -8.291492 -26.913366   4.066059   7.221807 -1.395811 -1.486842   \n",
       "12245  13.456683 -28.544479  17.174549  36.169720  0.546187 -3.533664   \n",
       "4504   -2.920606 -16.295956   6.179588  18.568508 -0.940735 -1.660629   \n",
       "11327   8.558269  -6.317759  -2.184748   5.643933 -1.395811 -0.946172   \n",
       "\n",
       "             27  \n",
       "36152  8.427116  \n",
       "5000   7.125257  \n",
       "25415  3.572284  \n",
       "21629  2.433015  \n",
       "34067  8.284686  \n",
       "...         ...  \n",
       "24496  5.889440  \n",
       "30228  0.077239  \n",
       "12245  6.159775  \n",
       "4504   3.186091  \n",
       "11327  0.540670  \n",
       "\n",
       "[31587 rows x 7 columns]"
      ]
     },
     "execution_count": 55,
     "metadata": {},
     "output_type": "execute_result"
    }
   ],
   "source": [
    "Y_train"
   ]
  },
  {
   "cell_type": "code",
   "execution_count": 63,
   "metadata": {},
   "outputs": [
    {
     "data": {
      "text/plain": [
       "array([[ 39.037277],\n",
       "       [-44.735386],\n",
       "       [ 22.403183],\n",
       "       ...,\n",
       "       [ -1.395811],\n",
       "       [ -0.946172],\n",
       "       [  0.54067 ]])"
      ]
     },
     "execution_count": 63,
     "metadata": {},
     "output_type": "execute_result"
    }
   ],
   "source": [
    "np.array(Y_train).reshape(-1, 1)"
   ]
  },
  {
   "cell_type": "markdown",
   "metadata": {},
   "source": [
    "# 2.Linear GP regression \n",
    "- Standard dot product kernel\n",
    "    - k(a,b) = a^\\top b"
   ]
  }
 ],
 "metadata": {
  "interpreter": {
   "hash": "2f37873089bc99999a4c22445a6971dc9322bb05dc63dba22dd50e8a2bf7bc1c"
  },
  "kernelspec": {
   "display_name": "Python 3.8.12 ('AML')",
   "language": "python",
   "name": "python3"
  },
  "language_info": {
   "codemirror_mode": {
    "name": "ipython",
    "version": 3
   },
   "file_extension": ".py",
   "mimetype": "text/x-python",
   "name": "python",
   "nbconvert_exporter": "python",
   "pygments_lexer": "ipython3",
   "version": "3.8.12"
  },
  "orig_nbformat": 4
 },
 "nbformat": 4,
 "nbformat_minor": 2
}
