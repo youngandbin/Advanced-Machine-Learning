{
 "cells": [
  {
   "cell_type": "markdown",
   "metadata": {},
   "source": [
    "# 0. Data"
   ]
  },
  {
   "cell_type": "code",
   "execution_count": 1,
   "metadata": {},
   "outputs": [],
   "source": [
    "import pandas as pd\n",
    "import numpy as np\n",
    "import torch\n",
    "import torch.nn as nn\n",
    "device = torch.device(\"cuda\")\n",
    "from sklearn.model_selection import train_test_split\n",
    "from sklearn.metrics import mean_squared_error, r2_score\n",
    "from scipy.linalg import block_diag # for computation efficiency - Kronecker product with identity matrix and regular matrix"
   ]
  },
  {
   "cell_type": "code",
   "execution_count": 2,
   "metadata": {},
   "outputs": [
    {
     "name": "stdout",
     "output_type": "stream",
     "text": [
      "train set:  torch.Size([800, 21]) torch.Size([800, 7])\n",
      "valid set:  torch.Size([200, 21]) torch.Size([200, 7])\n",
      "test set:  torch.Size([100, 21]) torch.Size([100, 7])\n"
     ]
    }
   ],
   "source": [
    "'split data'\n",
    "'first 21 columns are input variables and last 7 columns are output variables'\n",
    "\n",
    "train_data = pd.read_csv('./data/SARCOSTst.csv', header=None)[:1000]\n",
    "test_data = pd.read_csv('./data/SARCOSTrn.csv', header=None)[:100]\n",
    "\n",
    "X_train, X_valid, Y_train, Y_valid = train_test_split(train_data.iloc[:,:21], train_data.iloc[:,-7:], test_size=0.2)\n",
    "X_test, Y_test = test_data.iloc[:,:21], test_data.iloc[:,-7:]\n",
    "\n",
    "X_train = torch.tensor(X_train.values).to(device)\n",
    "X_valid = torch.tensor(X_valid.values).to(device)\n",
    "Y_train = torch.tensor(Y_train.values).to(device)\n",
    "Y_valid = torch.tensor(Y_valid.values).to(device)\n",
    "X_test = torch.tensor(X_test.values).to(device)\n",
    "Y_test = torch.tensor(Y_test.values).to(device)\n",
    "\n",
    "print('train set: ', X_train.shape, Y_train.shape)\n",
    "print('valid set: ', X_valid.shape, Y_valid.shape)\n",
    "print('test set: ', X_test.shape, Y_test.shape)"
   ]
  },
  {
   "cell_type": "markdown",
   "metadata": {},
   "source": [
    "# 1. Kernel"
   ]
  },
  {
   "cell_type": "code",
   "execution_count": 3,
   "metadata": {},
   "outputs": [],
   "source": [
    "class LinearKernel:\n",
    "    \"\"\"\n",
    "    standard dot product kernel k(a,b) = a^\\top b\n",
    "    :input: X1 (N*D), X2 (M*D)\n",
    "    :output: covariance matrix (N*M)\n",
    "    \"\"\"\n",
    "    def __init__(self):\n",
    "        pass\n",
    "\n",
    "    def __call__(self, X1, X2):\n",
    "        # return torch.tensor([[torch.dot(x1, x2) for x1 in X1] for x2 in X2]) \n",
    "        return torch.matmul(X1, X2.T) \n"
   ]
  },
  {
   "cell_type": "code",
   "execution_count": 4,
   "metadata": {},
   "outputs": [],
   "source": [
    "class GaussianKernel:\n",
    "    \"\"\"\n",
    "    isotropic Gaussian kernel\n",
    "    :input: X1 (N*D), X2 (M*D)\n",
    "    :output: covariance matrix (N*M)\n",
    "    \"\"\"\n",
    "    def __init__(self, sigma_k=1):\n",
    "        self.sigma_k = sigma_k # isotropic Gaussian kernel variance (Hyperparameter !)\n",
    "\n",
    "    def __call__(self, X1, X2):\n",
    "        # return np.exp(-(np.sum(X1**2, axis=1).values.reshape(-1, 1) +\n",
    "        #                 np.sum(X2**2, axis=1).values.reshape(1, -1) - 2*X1@X2.T) / pow(self.sigma_k, 2))\n",
    "        return torch.exp(-(torch.sum(X1**2, axis=1).reshape(-1, 1) +\n",
    "                           torch.sum(X2**2, axis=1).reshape(1, -1) - 2*torch.matmul(X1, X2.T)) / pow(self.sigma_k, 2))\n"
   ]
  },
  {
   "cell_type": "markdown",
   "metadata": {},
   "source": [
    "# 2. GP regression"
   ]
  },
  {
   "cell_type": "code",
   "execution_count": 36,
   "metadata": {},
   "outputs": [],
   "source": [
    "class GP_Regression(nn.Module):\n",
    "    def __init__(self, X_train, Y_train, K:GaussianKernel(), sigma_n, device):\n",
    "        super().__init__()\n",
    "        self.X_train = X_train\n",
    "        self.Y_train = Y_train\n",
    "        self.K = K\n",
    "        self.sigma_n = nn.Parameter(torch.tensor(sigma_n), requires_grad=True)  # noise variance (Hyperparameter)\n",
    "        self.device = device\n",
    "        self.D = self.Y_train.shape[1] # output dim (=7)\n",
    "    \n",
    "    def fit(self, X_test):\n",
    "        \"\"\"\n",
    "        calculate sufficient statistics\n",
    "        \"\"\"\n",
    "        self.K_X_X = self.K(self.X_train, self.X_train)\n",
    "        self.K_X_X = torch.block_diag(*[self.K_X_X]*self.D)\n",
    "        self.K_Xt_X = self.K(X_test, self.X_train)\n",
    "        self.K_Xt_X = torch.block_diag(*[self.K_Xt_X]*self.D)\n",
    "        self.K_X_Xt = self.K_Xt_X.T\n",
    "        self.K_Xt_Xt = self.K(X_test, X_test)\n",
    "        self.K_Xt_Xt = torch.block_diag(*[self.K_Xt_Xt]*self.D)\n",
    "        self.Sigma = self.sigma_n * torch.eye(self.D).to(self.device)\n",
    "        self.I = torch.eye(len(self.X_train)).to(self.device)\n",
    "        self.y_concat = self.Y_train.T.reshape(self.D*Y_train.shape[0])\n",
    "\n",
    "    def __NLL_term_1__(self):\n",
    "        combined = []\n",
    "        for d in range(self.D):\n",
    "            combined.append( \n",
    "                (-0.5 * torch.matmul( torch.matmul(self.Y_train, self.K_X_X+torch.kron(self.Sigma,self.I)), self.Y_train.T )).item() \n",
    "            )\n",
    "        return sum(combined)\n",
    "\n",
    "    def __NLL_term_2__(self):\n",
    "        return -0.5 * torch.log(torch.det(self.K_X_X + torch.kron(self.Sigma, self.I)))\n",
    "    \n",
    "    def predict(self):\n",
    "        \n",
    "        K_X_X, K_X_Xt, K_Xt_X, K_Xt_Xt, Sigma, I, y_concat = self.K_X_X, self.K_X_Xt, self.K_Xt_X, self.K_Xt_Xt, self.Sigma, self.I, self.y_concat\n",
    "\n",
    "        # predictive mean, covariance, variance\n",
    "        mean = K_Xt_X @ torch.linalg.inv( K_X_X + torch.kron(Sigma,I) ) @ y_concat\n",
    "        cov = K_Xt_Xt - K_Xt_X @ torch.linalg.inv( K_X_X + torch.kron(Sigma,I) ) @ K_X_Xt\n",
    "        var = torch.diag(cov)\n",
    "\n",
    "        self.predictive_distribution = {'mean': mean, 'cov':cov, 'var':var}\n",
    "\n",
    "        return mean.reshape(self.D, -1).T\n",
    "    \n",
    "    def calculate_NLL(self):\n",
    "        return self.__NLL_term_1__() + self.__NLL_term_2__()"
   ]
  },
  {
   "cell_type": "code",
   "execution_count": 42,
   "metadata": {},
   "outputs": [
    {
     "name": "stdout",
     "output_type": "stream",
     "text": [
      "tensor(377.1774, device='cuda:0', dtype=torch.float64,\n",
      "       grad_fn=<MseLossBackward0>)\n"
     ]
    }
   ],
   "source": [
    "model = GP_Regression(X_train, Y_train, GaussianKernel(), sigma_n=0.05, device=device)\n",
    "model.fit(X_test)\n",
    "pred = model.predict()\n",
    "\n",
    "loss_f = nn.MSELoss()\n",
    "mse = loss_f(pred, Y_test)\n",
    "print(mse)\n"
   ]
  },
  {
   "cell_type": "markdown",
   "metadata": {},
   "source": [
    "# 3. Main"
   ]
  },
  {
   "cell_type": "code",
   "execution_count": null,
   "metadata": {},
   "outputs": [],
   "source": []
  }
 ],
 "metadata": {
  "interpreter": {
   "hash": "2f37873089bc99999a4c22445a6971dc9322bb05dc63dba22dd50e8a2bf7bc1c"
  },
  "kernelspec": {
   "display_name": "Python 3.8.12 ('AML')",
   "language": "python",
   "name": "python3"
  },
  "language_info": {
   "codemirror_mode": {
    "name": "ipython",
    "version": 3
   },
   "file_extension": ".py",
   "mimetype": "text/x-python",
   "name": "python",
   "nbconvert_exporter": "python",
   "pygments_lexer": "ipython3",
   "version": "3.8.12"
  },
  "orig_nbformat": 4
 },
 "nbformat": 4,
 "nbformat_minor": 2
}
