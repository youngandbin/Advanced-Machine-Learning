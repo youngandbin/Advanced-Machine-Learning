{
 "cells": [
  {
   "cell_type": "markdown",
   "metadata": {},
   "source": [
    "# 0. Data"
   ]
  },
  {
   "cell_type": "code",
   "execution_count": 1,
   "metadata": {},
   "outputs": [],
   "source": [
    "import pandas as pd\n",
    "import numpy as np\n",
    "from sklearn.model_selection import train_test_split\n",
    "from sklearn.metrics import mean_squared_error, r2_score\n",
    "from scipy.linalg import block_diag # for computation efficiency - Kronecker product with identity matrix and regular matrix"
   ]
  },
  {
   "cell_type": "code",
   "execution_count": 10,
   "metadata": {},
   "outputs": [
    {
     "name": "stdout",
     "output_type": "stream",
     "text": [
      "train set:  (800, 21) (800, 7)\n",
      "valid set:  (200, 21) (200, 7)\n",
      "test set:  (100, 21) (100, 7)\n"
     ]
    }
   ],
   "source": [
    "'split data'\n",
    "'first 21 columns are input variables and last 7 columns are output variables'\n",
    "\n",
    "train_data = pd.read_csv('./data/SARCOSTst.csv', header=None)[:1000]\n",
    "test_data = pd.read_csv('./data/SARCOSTrn.csv', header=None)[:100]\n",
    "\n",
    "X_train, X_valid, Y_train, Y_valid = train_test_split(train_data.iloc[:,:21], train_data.iloc[:,-7:], test_size=0.2)\n",
    "X_test, Y_test = test_data.iloc[:,:21], test_data.iloc[:,-7:]\n",
    "\n",
    "print('train set: ', X_train.shape, Y_train.shape)\n",
    "print('valid set: ', X_valid.shape, Y_valid.shape)\n",
    "print('test set: ', X_test.shape, Y_test.shape)"
   ]
  },
  {
   "cell_type": "markdown",
   "metadata": {},
   "source": [
    "# 1. Model"
   ]
  },
  {
   "cell_type": "markdown",
   "metadata": {},
   "source": [
    "## Gaussian kernel"
   ]
  },
  {
   "cell_type": "code",
   "execution_count": 11,
   "metadata": {},
   "outputs": [],
   "source": [
    "class GaussianKernel:\n",
    "    \"\"\"\n",
    "    isotropic Gaussian kernel\n",
    "    :input: X1 (N*D), X2 (M*D)\n",
    "    :output: covariance matrix (N*M)\n",
    "    \"\"\"\n",
    "    def __init__(self, sigma_k=1):\n",
    "        self.sigma_k = sigma_k # kernel variance (Hyperparameter !)\n",
    "\n",
    "    def __call__(self, X1, X2):\n",
    "        return np.exp(-(np.sum(X1**2, axis=1).values.reshape(-1, 1) +\n",
    "                        np.sum(X2**2, axis=1).values.reshape(1, -1) - 2*X1@X2.T) / pow(self.sigma_k, 2))\n"
   ]
  },
  {
   "cell_type": "markdown",
   "metadata": {},
   "source": [
    "## Linear kernel\n",
    "- Standard dot product kernel\n",
    "    - k(a,b) = a^\\top b\n",
    "- This is the same as Bayesian linear regression model without using a nonlinear feature map"
   ]
  },
  {
   "cell_type": "code",
   "execution_count": 12,
   "metadata": {},
   "outputs": [],
   "source": [
    "class LinearKernel: # X_train, X_test -> 4분\n",
    "    \"\"\"\n",
    "    standard dot product kernel\n",
    "    :input: X1 (N*D), X2 (M*D)\n",
    "    :output: covariance matrix (N*M)\n",
    "    \"\"\"\n",
    "\n",
    "    def __init__(self):\n",
    "        pass\n",
    "\n",
    "    def __call__(self, X1, X2):\n",
    "        return np.array([ [np.dot(x1, x2) for x1 in np.array(X1)] for x2 in np.array(X2) ])\n"
   ]
  },
  {
   "cell_type": "markdown",
   "metadata": {},
   "source": [
    "## GP regression"
   ]
  },
  {
   "cell_type": "code",
   "execution_count": 13,
   "metadata": {},
   "outputs": [],
   "source": [
    "class GaussianProcessRegression:\n",
    "    def __init__(self, X_train, Y_train, K=GaussianKernel(), sigma_n=1):\n",
    "        self.X_train = X_train\n",
    "        self.Y_train = Y_train\n",
    "        self.K = K\n",
    "        self.sigma_n = sigma_n  # noise variance (Hyperparameter !)\n",
    "        self.predictive_distribution = None\n",
    "        self.temp = None\n",
    "\n",
    "    def predict(self, X_test):\n",
    "        \n",
    "        # sufficient statistics\n",
    "        D = self.Y_train.shape[1]\n",
    "        C = np.identity(D) # coregionalisation matrix (used for multi-output model) # 7x7\n",
    "        K_X_X = self.K(self.X_train, self.X_train)  # 31587x31587\n",
    "        K_X_X = np.kron(C, K_X_X)\n",
    "        K_X_Xt = self.K(self.X_train, X_test); \n",
    "        K_X_Xt = np.kron(C, K_X_Xt)\n",
    "        K_Xt_X = K_X_Xt.T\n",
    "        # K_Xt_X = self.K(X_test, self.X_train); \n",
    "        # K_Xt_X = np.kron(C, K_Xt_X)\n",
    "        K_Xt_Xt = self.K(X_test, X_test); \n",
    "        K_Xt_Xt = np.kron(C, K_Xt_Xt)\n",
    "        Sigma = self.sigma_n * np.identity(D)\n",
    "        I = np.identity(len(self.X_train))\n",
    "        y_concat = self.Y_train.T.stack(level=-1).values\n",
    "\n",
    "        # predictive mean, covariance, variance\n",
    "        mean = K_Xt_X @ np.linalg.inv( K_X_X + np.kron(Sigma,I) ) @ y_concat\n",
    "        cov = K_Xt_Xt - K_Xt_X @ np.linalg.inv( K_X_X + np.kron(Sigma,I) ) @ K_X_Xt\n",
    "        var = np.diag(cov)\n",
    "\n",
    "        self.predictive_distribution = {'mean': mean, 'cov':cov, 'var':var}\n",
    "        self.temp = [C, K_X_X, K_X_Xt, K_Xt_X, K_Xt_Xt, Sigma, I, y_concat]\n",
    "\n",
    "        return pd.DataFrame(mean.reshape(D, -1)).T\n"
   ]
  },
  {
   "cell_type": "code",
   "execution_count": 14,
   "metadata": {},
   "outputs": [],
   "source": [
    "class GaussianProcessRegression_:\n",
    "    def __init__(self, X_train, Y_train, K=GaussianKernel(), sigma_n=1):\n",
    "        self.X_train = X_train\n",
    "        self.Y_train = Y_train\n",
    "        self.K = K\n",
    "        self.sigma_n = sigma_n  # noise variance (Hyperparameter !)\n",
    "        self.predictive_distribution = None\n",
    "        self.temp = None\n",
    "\n",
    "    def predict(self, X_test):\n",
    "        \n",
    "        # sufficient statistics\n",
    "        D = self.Y_train.shape[1]\n",
    "        C = np.identity(D) # coregionalisation matrix (used for multi-output model) # 7x7\n",
    "        K_X_X = self.K(self.X_train, self.X_train)  # 31587x31587\n",
    "        K_X_X = block_diag(*[K_X_X]*D)\n",
    "        K_X_Xt = self.K(self.X_train, X_test); \n",
    "        K_X_Xt = block_diag(*[K_X_Xt]*D)\n",
    "        K_Xt_X = K_X_Xt.T\n",
    "        # K_Xt_X = self.K(X_test, self.X_train); \n",
    "        # K_Xt_X = np.kron(C, K_Xt_X)\n",
    "        K_Xt_Xt = self.K(X_test, X_test); \n",
    "        K_Xt_Xt = block_diag(*[K_Xt_Xt]*D)\n",
    "        Sigma = self.sigma_n * np.identity(D)\n",
    "        I = np.identity(len(self.X_train))\n",
    "        y_concat = self.Y_train.T.stack(level=-1).values\n",
    "\n",
    "        # predictive mean, covariance, variance\n",
    "        mean = K_Xt_X @ np.linalg.inv( K_X_X + np.kron(Sigma,I) ) @ y_concat\n",
    "        cov = K_Xt_Xt - K_Xt_X @ np.linalg.inv( K_X_X + np.kron(Sigma,I) ) @ K_X_Xt\n",
    "        var = np.diag(cov)\n",
    "\n",
    "        self.predictive_distribution = {'mean': mean, 'cov':cov, 'var':var}\n",
    "        self.temp = [C, K_X_X, K_X_Xt, K_Xt_X, K_Xt_Xt, Sigma, I, y_concat]\n",
    "\n",
    "        return pd.DataFrame(mean.reshape(D, -1)).T\n"
   ]
  },
  {
   "cell_type": "code",
   "execution_count": 15,
   "metadata": {},
   "outputs": [],
   "source": [
    "def kron_N_A(A, N):  # Simulates np.kron(np.eye(N), A)\n",
    "    m, n = A.shape\n",
    "    out = np.zeros((N, m, N, n), dtype=A.dtype)\n",
    "    r = np.arange(N)\n",
    "    out[r, :, r, :] = A\n",
    "    out.shape = (m*N, n*N)\n",
    "    return out\n",
    "\n",
    "\n",
    "class GaussianProcessRegression__:\n",
    "    def __init__(self, X_train, Y_train, K=GaussianKernel(), sigma_n=1):\n",
    "        self.X_train = X_train\n",
    "        self.Y_train = Y_train\n",
    "        self.K = K\n",
    "        self.sigma_n = sigma_n  # noise variance (Hyperparameter !)\n",
    "        self.predictive_distribution = None\n",
    "        self.temp = None\n",
    "\n",
    "    def predict(self, X_test):\n",
    "\n",
    "        # sufficient statistics\n",
    "        D = self.Y_train.shape[1]\n",
    "        # coregionalisation matrix (used for multi-output model) # 7x7\n",
    "        C = np.identity(D)\n",
    "        K_X_X = self.K(self.X_train, self.X_train)  # 31587x31587\n",
    "        K_X_X = kron_N_A(np.array(K_X_X), D)\n",
    "        K_X_Xt = self.K(self.X_train, X_test)\n",
    "        K_X_Xt = kron_N_A(np.array(K_X_Xt), D)\n",
    "        K_Xt_X = K_X_Xt.T\n",
    "        # K_Xt_X = self.K(X_test, self.X_train);\n",
    "        # K_Xt_X = np.kron(C, K_Xt_X)\n",
    "        K_Xt_Xt = self.K(X_test, X_test)\n",
    "        K_Xt_Xt = kron_N_A(np.array(K_Xt_Xt), D)\n",
    "        Sigma = self.sigma_n * np.identity(D)\n",
    "        I = np.identity(len(self.X_train))\n",
    "        y_concat = self.Y_train.T.stack(level=-1).values\n",
    "\n",
    "        # predictive mean, covariance, variance\n",
    "        mean = K_Xt_X @ np.linalg.inv(K_X_X + np.kron(Sigma, I)) @ y_concat\n",
    "        cov = K_Xt_Xt - \\\n",
    "            K_Xt_X @ np.linalg.inv(K_X_X + np.kron(Sigma, I)) @ K_X_Xt\n",
    "        var = np.diag(cov)\n",
    "\n",
    "        self.predictive_distribution = {'mean': mean, 'cov': cov, 'var': var}\n",
    "        self.temp = [C, K_X_X, K_X_Xt, K_Xt_X, K_Xt_Xt, Sigma, I, y_concat]\n",
    "\n",
    "        return pd.DataFrame(mean.reshape(D, -1)).T\n"
   ]
  },
  {
   "cell_type": "code",
   "execution_count": 16,
   "metadata": {},
   "outputs": [],
   "source": [
    "class GaussianProcessRegression_JH:\n",
    "    def __init__(self, X_train, Y_train, K=GaussianKernel(), sigma_n=1):\n",
    "        self.X_train = X_train\n",
    "        self.Y_train = Y_train\n",
    "        self.K = K\n",
    "        self.sigma_n = sigma_n  # noise variance (Hyperparameter !)\n",
    "        self.predictive_distribution = None\n",
    "        self.temp = None\n",
    "\n",
    "    def predict(self, X_test):\n",
    "        \n",
    "        # sufficient statistics\n",
    "        D = self.Y_train.shape[1]\n",
    "        C = np.identity(D) # coregionalisation matrix (used for multi-output model) # 7x7\n",
    "        K_X_X = self.K(self.X_train, self.X_train)  # 31587x31587\n",
    "        K_X_X = np.array(K_X_X).repeat(D, D)\n",
    "        K_X_Xt = self.K(self.X_train, X_test); \n",
    "        K_X_Xt = np.array(K_X_Xt).repeat(D, 1)\n",
    "        K_Xt_X = self.K(X_test, self.X_train); \n",
    "        K_Xt_X = np.array(K_Xt_X).repeat(1, D)\n",
    "        K_Xt_Xt = self.K(X_test, X_test); \n",
    "        K_Xt_Xt = np.array(K_Xt_Xt).repeat(1, 1)\n",
    "        Sigma = self.sigma_n * np.identity(D)\n",
    "        I = np.identity(len(self.X_train))\n",
    "        y_concat = self.Y_train.T.stack(level=-1).values\n",
    "\n",
    "        # predictive mean, covariance, variance\n",
    "        mean = K_Xt_X @ np.linalg.inv( K_X_X + np.kron(Sigma,I) ) @ y_concat\n",
    "        cov = K_Xt_Xt - K_Xt_X @ np.linalg.inv( K_X_X + np.kron(Sigma,I) ) @ K_X_Xt\n",
    "        var = np.diag(cov)\n",
    "\n",
    "        self.predictive_distribution = {'mean': mean, 'cov':cov, 'var':var}\n",
    "        self.temp = [C, K_X_X, K_X_Xt, K_Xt_X, K_Xt_Xt, Sigma, I, y_concat]\n",
    "\n",
    "        return pd.DataFrame(mean.reshape(D, -1)).T\n"
   ]
  },
  {
   "cell_type": "code",
   "execution_count": 17,
   "metadata": {},
   "outputs": [
    {
     "name": "stdout",
     "output_type": "stream",
     "text": [
      "382.4756739107164\n"
     ]
    }
   ],
   "source": [
    "model = GaussianProcessRegression__(X_train, Y_train, GaussianKernel())\n",
    "pred = model.predict(X_test)\n",
    "\n",
    "mse = mean_squared_error(pred.values, Y_test.values)\n",
    "print(mse)\n",
    "\n",
    "C = model.temp[0]\n",
    "K_X_X = model.temp[1]\n",
    "K_X_Xt = model.temp[2]\n",
    "K_Xt_X = model.temp[3]\n",
    "K_Xt_Xt = model.temp[4]\n",
    "Sigma = model.temp[5]\n",
    "I = model.temp[6]\n",
    "y_concat = model.temp[7]\n"
   ]
  },
  {
   "cell_type": "code",
   "execution_count": null,
   "metadata": {},
   "outputs": [],
   "source": [
    "# np.kron # 380.8650009942557\n",
    "# block_diag(*[A]*N) # 380.8650009942557\n",
    "# kron_N_A # 382.4756739107164"
   ]
  },
  {
   "cell_type": "code",
   "execution_count": 47,
   "metadata": {},
   "outputs": [],
   "source": [
    "I = np.identity(7)\n",
    "K_X_X = np.random.rand(10,10)"
   ]
  },
  {
   "cell_type": "code",
   "execution_count": 56,
   "metadata": {},
   "outputs": [],
   "source": [
    "block_list = []\n",
    "for i in range(len(I)): # 0~6\n",
    "    for j in range(len(I)): # 0~6\n",
    "       num = I[i,j]\n",
    "       block = num*K_X_X\n",
    "       block_list.append(block)"
   ]
  },
  {
   "cell_type": "code",
   "execution_count": 59,
   "metadata": {},
   "outputs": [
    {
     "ename": "TypeError",
     "evalue": "array() missing required argument 'object' (pos 0)",
     "output_type": "error",
     "traceback": [
      "\u001b[1;31m---------------------------------------------------------------------------\u001b[0m",
      "\u001b[1;31mTypeError\u001b[0m                                 Traceback (most recent call last)",
      "\u001b[1;32mc:\\Users\\YOUNGBIN\\Documents\\Jupyter Lab\\Advanced-Machine-Learning\\2. Gaussian Process Regression\\model.ipynb Cell 18'\u001b[0m in \u001b[0;36m<cell line: 1>\u001b[1;34m()\u001b[0m\n\u001b[1;32m----> <a href='vscode-notebook-cell:/c%3A/Users/YOUNGBIN/Documents/Jupyter%20Lab/Advanced-Machine-Learning/2.%20Gaussian%20Process%20Regression/model.ipynb#ch0000066?line=0'>1</a>\u001b[0m np\u001b[39m.\u001b[39;49marray()\n",
      "\u001b[1;31mTypeError\u001b[0m: array() missing required argument 'object' (pos 0)"
     ]
    }
   ],
   "source": [
    "np.array()"
   ]
  },
  {
   "cell_type": "code",
   "execution_count": null,
   "metadata": {},
   "outputs": [],
   "source": []
  }
 ],
 "metadata": {
  "interpreter": {
   "hash": "2f37873089bc99999a4c22445a6971dc9322bb05dc63dba22dd50e8a2bf7bc1c"
  },
  "kernelspec": {
   "display_name": "Python 3.8.12 ('AML')",
   "language": "python",
   "name": "python3"
  },
  "language_info": {
   "codemirror_mode": {
    "name": "ipython",
    "version": 3
   },
   "file_extension": ".py",
   "mimetype": "text/x-python",
   "name": "python",
   "nbconvert_exporter": "python",
   "pygments_lexer": "ipython3",
   "version": "3.8.12"
  },
  "orig_nbformat": 4
 },
 "nbformat": 4,
 "nbformat_minor": 2
}
