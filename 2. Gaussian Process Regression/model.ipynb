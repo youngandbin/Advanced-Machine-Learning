{
 "cells": [
  {
   "cell_type": "markdown",
   "metadata": {},
   "source": [
    "# 0. Data"
   ]
  },
  {
   "cell_type": "code",
   "execution_count": 30,
   "metadata": {},
   "outputs": [],
   "source": [
    "import pandas as pd\n",
    "import numpy as np\n",
    "from sklearn.model_selection import train_test_split\n",
    "from sklearn.metrics import mean_squared_error, r2_score\n",
    "from scipy.linalg import block_diag # for computation efficiency - Kronecker product with identity matrix and regular matrix"
   ]
  },
  {
   "cell_type": "code",
   "execution_count": 37,
   "metadata": {},
   "outputs": [
    {
     "name": "stdout",
     "output_type": "stream",
     "text": [
      "train set:  (800, 21) (800, 7)\n",
      "valid set:  (200, 21) (200, 7)\n",
      "test set:  (100, 21) (100, 7)\n"
     ]
    }
   ],
   "source": [
    "'split data'\n",
    "'first 21 columns are input variables and last 7 columns are output variables'\n",
    "\n",
    "train_data = pd.read_csv('./data/SARCOSTst.csv', header=None)[:1000]\n",
    "test_data = pd.read_csv('./data/SARCOSTrn.csv', header=None)[:100]\n",
    "\n",
    "X_train, X_valid, Y_train, Y_valid = train_test_split(train_data.iloc[:,:21], train_data.iloc[:,-7:], test_size=0.2)\n",
    "X_test, Y_test = test_data.iloc[:,:21], test_data.iloc[:,-7:]\n",
    "\n",
    "print('train set: ', X_train.shape, Y_train.shape)\n",
    "print('valid set: ', X_valid.shape, Y_valid.shape)\n",
    "print('test set: ', X_test.shape, Y_test.shape)"
   ]
  },
  {
   "cell_type": "markdown",
   "metadata": {},
   "source": [
    "# 1. Model"
   ]
  },
  {
   "cell_type": "markdown",
   "metadata": {},
   "source": [
    "## Gaussian kernel"
   ]
  },
  {
   "cell_type": "code",
   "execution_count": 38,
   "metadata": {},
   "outputs": [],
   "source": [
    "class GaussianKernel:\n",
    "    \"\"\"\n",
    "    isotropic Gaussian kernel\n",
    "    :input: X1 (N*D), X2 (M*D)\n",
    "    :output: covariance matrix (N*M)\n",
    "    \"\"\"\n",
    "    def __init__(self, sigma_k=1):\n",
    "        self.sigma_k = sigma_k # isotropic Gaussian kernel variance (Hyperparameter !)\n",
    "\n",
    "    def __call__(self, X1, X2):\n",
    "        return np.exp(-(np.sum(X1**2, axis=1).values.reshape(-1, 1) +\n",
    "                        np.sum(X2**2, axis=1).values.reshape(1, -1) - 2*X1@X2.T) / pow(self.sigma_k, 2))\n"
   ]
  },
  {
   "cell_type": "markdown",
   "metadata": {},
   "source": [
    "## Linear kernel\n",
    "- Standard dot product kernel\n",
    "    - k(a,b) = a^\\top b\n",
    "- This is the same as Bayesian linear regression model without using a nonlinear feature map"
   ]
  },
  {
   "cell_type": "code",
   "execution_count": 33,
   "metadata": {},
   "outputs": [],
   "source": [
    "class LinearKernel: # X_train, X_test -> 4분\n",
    "    \"\"\"\n",
    "    standard dot product kernel\n",
    "    :input: X1 (N*D), X2 (M*D)\n",
    "    :output: covariance matrix (N*M)\n",
    "    \"\"\"\n",
    "\n",
    "    def __init__(self):\n",
    "        pass\n",
    "\n",
    "    def __call__(self, X1, X2):\n",
    "        return np.array([ [np.dot(x1, x2) for x1 in np.array(X1)] for x2 in np.array(X2) ])\n"
   ]
  },
  {
   "cell_type": "markdown",
   "metadata": {},
   "source": [
    "## GP regression"
   ]
  },
  {
   "cell_type": "code",
   "execution_count": 34,
   "metadata": {},
   "outputs": [],
   "source": [
    "class GaussianProcessRegression:\n",
    "    def __init__(self, X_train, Y_train, K=GaussianKernel(), sigma_n=1):\n",
    "        self.X_train = X_train\n",
    "        self.Y_train = Y_train\n",
    "        self.K = K\n",
    "        self.sigma_n = sigma_n  # noise variance (Hyperparameter !)\n",
    "        self.predictive_distribution = None\n",
    "        self.temp = None\n",
    "\n",
    "    def predict(self, X_test):\n",
    "        \n",
    "        # sufficient statistics\n",
    "\n",
    "        D = self.Y_train.shape[1]\n",
    "        C = np.identity(D) # coregionalisation matrix (used for multi-output model) # 7x7\n",
    "\n",
    "        K_X_X = self.K(self.X_train, self.X_train)  # 31587x31587\n",
    "        K_X_X = block_diag(*[K_X_X]*D)\n",
    "        K_Xt_X = self.K(X_test, self.X_train)\n",
    "        K_Xt_X = block_diag(*[K_Xt_X]*D)\n",
    "        K_X_Xt = K_Xt_X.T\n",
    "        K_Xt_Xt = self.K(X_test, X_test); \n",
    "        K_Xt_Xt = block_diag(*[K_Xt_Xt]*D)\n",
    "\n",
    "        Sigma = self.sigma_n * np.identity(D)\n",
    "        I = np.identity(len(self.X_train))\n",
    "        y_concat = self.Y_train.T.stack(level=-1).values\n",
    "\n",
    "        # predictive mean, covariance, variance\n",
    "        \n",
    "        mean = K_Xt_X @ np.linalg.inv( K_X_X + np.kron(Sigma,I) ) @ y_concat\n",
    "        cov = K_Xt_Xt - K_Xt_X @ np.linalg.inv( K_X_X + np.kron(Sigma,I) ) @ K_X_Xt\n",
    "        var = np.diag(cov)\n",
    "\n",
    "        self.predictive_distribution = {'mean': mean, 'cov':cov, 'var':var}\n",
    "        self.temp = [C, K_X_X, K_X_Xt, K_Xt_X, K_Xt_Xt, Sigma, I, y_concat]\n",
    "\n",
    "        return pd.DataFrame(mean.reshape(D, -1)).T\n"
   ]
  },
  {
   "cell_type": "code",
   "execution_count": 36,
   "metadata": {},
   "outputs": [
    {
     "ename": "MemoryError",
     "evalue": "Unable to allocate 7.43 GiB for an array with shape (31587, 31587) and data type float64",
     "output_type": "error",
     "traceback": [
      "\u001b[1;31m---------------------------------------------------------------------------\u001b[0m",
      "\u001b[1;31mMemoryError\u001b[0m                               Traceback (most recent call last)",
      "\u001b[1;32mc:\\Users\\YOUNGBIN\\Documents\\Jupyter Lab\\Advanced-Machine-Learning\\2. Gaussian Process Regression\\model.ipynb Cell 12'\u001b[0m in \u001b[0;36m<cell line: 2>\u001b[1;34m()\u001b[0m\n\u001b[0;32m      <a href='vscode-notebook-cell:/c%3A/Users/YOUNGBIN/Documents/Jupyter%20Lab/Advanced-Machine-Learning/2.%20Gaussian%20Process%20Regression/model.ipynb#ch0000014?line=0'>1</a>\u001b[0m model \u001b[39m=\u001b[39m GaussianProcessRegression_4(X_train, Y_train, GaussianKernel())\n\u001b[1;32m----> <a href='vscode-notebook-cell:/c%3A/Users/YOUNGBIN/Documents/Jupyter%20Lab/Advanced-Machine-Learning/2.%20Gaussian%20Process%20Regression/model.ipynb#ch0000014?line=1'>2</a>\u001b[0m pred \u001b[39m=\u001b[39m model\u001b[39m.\u001b[39;49mpredict(X_test)\n\u001b[0;32m      <a href='vscode-notebook-cell:/c%3A/Users/YOUNGBIN/Documents/Jupyter%20Lab/Advanced-Machine-Learning/2.%20Gaussian%20Process%20Regression/model.ipynb#ch0000014?line=3'>4</a>\u001b[0m mse \u001b[39m=\u001b[39m mean_squared_error(pred\u001b[39m.\u001b[39mvalues, Y_test\u001b[39m.\u001b[39mvalues)\n\u001b[0;32m      <a href='vscode-notebook-cell:/c%3A/Users/YOUNGBIN/Documents/Jupyter%20Lab/Advanced-Machine-Learning/2.%20Gaussian%20Process%20Regression/model.ipynb#ch0000014?line=4'>5</a>\u001b[0m \u001b[39mprint\u001b[39m(mse)\n",
      "\u001b[1;32mc:\\Users\\YOUNGBIN\\Documents\\Jupyter Lab\\Advanced-Machine-Learning\\2. Gaussian Process Regression\\model.ipynb Cell 11'\u001b[0m in \u001b[0;36mGaussianProcessRegression_4.predict\u001b[1;34m(self, X_test)\u001b[0m\n\u001b[0;32m     <a href='vscode-notebook-cell:/c%3A/Users/YOUNGBIN/Documents/Jupyter%20Lab/Advanced-Machine-Learning/2.%20Gaussian%20Process%20Regression/model.ipynb#ch0000012?line=12'>13</a>\u001b[0m D \u001b[39m=\u001b[39m \u001b[39mself\u001b[39m\u001b[39m.\u001b[39mY_train\u001b[39m.\u001b[39mshape[\u001b[39m1\u001b[39m]\n\u001b[0;32m     <a href='vscode-notebook-cell:/c%3A/Users/YOUNGBIN/Documents/Jupyter%20Lab/Advanced-Machine-Learning/2.%20Gaussian%20Process%20Regression/model.ipynb#ch0000012?line=13'>14</a>\u001b[0m C \u001b[39m=\u001b[39m np\u001b[39m.\u001b[39midentity(D) \u001b[39m# coregionalisation matrix (used for multi-output model) # 7x7\u001b[39;00m\n\u001b[1;32m---> <a href='vscode-notebook-cell:/c%3A/Users/YOUNGBIN/Documents/Jupyter%20Lab/Advanced-Machine-Learning/2.%20Gaussian%20Process%20Regression/model.ipynb#ch0000012?line=15'>16</a>\u001b[0m K_X_X \u001b[39m=\u001b[39m \u001b[39mself\u001b[39;49m\u001b[39m.\u001b[39;49mK(\u001b[39mself\u001b[39;49m\u001b[39m.\u001b[39;49mX_train, \u001b[39mself\u001b[39;49m\u001b[39m.\u001b[39;49mX_train)  \u001b[39m# 31587x31587\u001b[39;00m\n\u001b[0;32m     <a href='vscode-notebook-cell:/c%3A/Users/YOUNGBIN/Documents/Jupyter%20Lab/Advanced-Machine-Learning/2.%20Gaussian%20Process%20Regression/model.ipynb#ch0000012?line=16'>17</a>\u001b[0m block_list \u001b[39m=\u001b[39m []\n\u001b[0;32m     <a href='vscode-notebook-cell:/c%3A/Users/YOUNGBIN/Documents/Jupyter%20Lab/Advanced-Machine-Learning/2.%20Gaussian%20Process%20Regression/model.ipynb#ch0000012?line=17'>18</a>\u001b[0m \u001b[39mfor\u001b[39;00m i \u001b[39min\u001b[39;00m \u001b[39mrange\u001b[39m(\u001b[39mlen\u001b[39m(C)):\n",
      "\u001b[1;32mc:\\Users\\YOUNGBIN\\Documents\\Jupyter Lab\\Advanced-Machine-Learning\\2. Gaussian Process Regression\\model.ipynb Cell 6'\u001b[0m in \u001b[0;36mGaussianKernel.__call__\u001b[1;34m(self, X1, X2)\u001b[0m\n\u001b[0;32m     <a href='vscode-notebook-cell:/c%3A/Users/YOUNGBIN/Documents/Jupyter%20Lab/Advanced-Machine-Learning/2.%20Gaussian%20Process%20Regression/model.ipynb#ch0000005?line=9'>10</a>\u001b[0m \u001b[39mdef\u001b[39;00m \u001b[39m__call__\u001b[39m(\u001b[39mself\u001b[39m, X1, X2):\n\u001b[0;32m     <a href='vscode-notebook-cell:/c%3A/Users/YOUNGBIN/Documents/Jupyter%20Lab/Advanced-Machine-Learning/2.%20Gaussian%20Process%20Regression/model.ipynb#ch0000005?line=10'>11</a>\u001b[0m     \u001b[39mreturn\u001b[39;00m np\u001b[39m.\u001b[39mexp(\u001b[39m-\u001b[39m(np\u001b[39m.\u001b[39msum(X1\u001b[39m*\u001b[39m\u001b[39m*\u001b[39m\u001b[39m2\u001b[39m, axis\u001b[39m=\u001b[39m\u001b[39m1\u001b[39m)\u001b[39m.\u001b[39mvalues\u001b[39m.\u001b[39mreshape(\u001b[39m-\u001b[39m\u001b[39m1\u001b[39m, \u001b[39m1\u001b[39m) \u001b[39m+\u001b[39m\n\u001b[1;32m---> <a href='vscode-notebook-cell:/c%3A/Users/YOUNGBIN/Documents/Jupyter%20Lab/Advanced-Machine-Learning/2.%20Gaussian%20Process%20Regression/model.ipynb#ch0000005?line=11'>12</a>\u001b[0m                     np\u001b[39m.\u001b[39msum(X2\u001b[39m*\u001b[39m\u001b[39m*\u001b[39m\u001b[39m2\u001b[39m, axis\u001b[39m=\u001b[39m\u001b[39m1\u001b[39m)\u001b[39m.\u001b[39mvalues\u001b[39m.\u001b[39mreshape(\u001b[39m1\u001b[39m, \u001b[39m-\u001b[39m\u001b[39m1\u001b[39m) \u001b[39m-\u001b[39m \u001b[39m2\u001b[39;49m\u001b[39m*\u001b[39;49mX1\u001b[39m@X2\u001b[39;49m\u001b[39m.\u001b[39;49mT) \u001b[39m/\u001b[39m \u001b[39mpow\u001b[39m(\u001b[39mself\u001b[39m\u001b[39m.\u001b[39msigma_k, \u001b[39m2\u001b[39m))\n",
      "File \u001b[1;32m~\\anaconda3\\envs\\AML\\lib\\site-packages\\pandas\\core\\frame.py:1553\u001b[0m, in \u001b[0;36mDataFrame.__matmul__\u001b[1;34m(self, other)\u001b[0m\n\u001b[0;32m   <a href='file:///c%3A/Users/YOUNGBIN/anaconda3/envs/AML/lib/site-packages/pandas/core/frame.py?line=1546'>1547</a>\u001b[0m \u001b[39mdef\u001b[39;00m \u001b[39m__matmul__\u001b[39m(\n\u001b[0;32m   <a href='file:///c%3A/Users/YOUNGBIN/anaconda3/envs/AML/lib/site-packages/pandas/core/frame.py?line=1547'>1548</a>\u001b[0m     \u001b[39mself\u001b[39m, other: AnyArrayLike \u001b[39m|\u001b[39m DataFrame \u001b[39m|\u001b[39m Series\n\u001b[0;32m   <a href='file:///c%3A/Users/YOUNGBIN/anaconda3/envs/AML/lib/site-packages/pandas/core/frame.py?line=1548'>1549</a>\u001b[0m ) \u001b[39m-\u001b[39m\u001b[39m>\u001b[39m DataFrame \u001b[39m|\u001b[39m Series:\n\u001b[0;32m   <a href='file:///c%3A/Users/YOUNGBIN/anaconda3/envs/AML/lib/site-packages/pandas/core/frame.py?line=1549'>1550</a>\u001b[0m     \u001b[39m\"\"\"\u001b[39;00m\n\u001b[0;32m   <a href='file:///c%3A/Users/YOUNGBIN/anaconda3/envs/AML/lib/site-packages/pandas/core/frame.py?line=1550'>1551</a>\u001b[0m \u001b[39m    Matrix multiplication using binary `@` operator in Python>=3.5.\u001b[39;00m\n\u001b[0;32m   <a href='file:///c%3A/Users/YOUNGBIN/anaconda3/envs/AML/lib/site-packages/pandas/core/frame.py?line=1551'>1552</a>\u001b[0m \u001b[39m    \"\"\"\u001b[39;00m\n\u001b[1;32m-> <a href='file:///c%3A/Users/YOUNGBIN/anaconda3/envs/AML/lib/site-packages/pandas/core/frame.py?line=1552'>1553</a>\u001b[0m     \u001b[39mreturn\u001b[39;00m \u001b[39mself\u001b[39;49m\u001b[39m.\u001b[39;49mdot(other)\n",
      "File \u001b[1;32m~\\anaconda3\\envs\\AML\\lib\\site-packages\\pandas\\core\\frame.py:1524\u001b[0m, in \u001b[0;36mDataFrame.dot\u001b[1;34m(self, other)\u001b[0m\n\u001b[0;32m   <a href='file:///c%3A/Users/YOUNGBIN/anaconda3/envs/AML/lib/site-packages/pandas/core/frame.py?line=1517'>1518</a>\u001b[0m         \u001b[39mraise\u001b[39;00m \u001b[39mValueError\u001b[39;00m(\n\u001b[0;32m   <a href='file:///c%3A/Users/YOUNGBIN/anaconda3/envs/AML/lib/site-packages/pandas/core/frame.py?line=1518'>1519</a>\u001b[0m             \u001b[39mf\u001b[39m\u001b[39m\"\u001b[39m\u001b[39mDot product shape mismatch, \u001b[39m\u001b[39m{\u001b[39;00mlvals\u001b[39m.\u001b[39mshape\u001b[39m}\u001b[39;00m\u001b[39m vs \u001b[39m\u001b[39m{\u001b[39;00mrvals\u001b[39m.\u001b[39mshape\u001b[39m}\u001b[39;00m\u001b[39m\"\u001b[39m\n\u001b[0;32m   <a href='file:///c%3A/Users/YOUNGBIN/anaconda3/envs/AML/lib/site-packages/pandas/core/frame.py?line=1519'>1520</a>\u001b[0m         )\n\u001b[0;32m   <a href='file:///c%3A/Users/YOUNGBIN/anaconda3/envs/AML/lib/site-packages/pandas/core/frame.py?line=1521'>1522</a>\u001b[0m \u001b[39mif\u001b[39;00m \u001b[39misinstance\u001b[39m(other, DataFrame):\n\u001b[0;32m   <a href='file:///c%3A/Users/YOUNGBIN/anaconda3/envs/AML/lib/site-packages/pandas/core/frame.py?line=1522'>1523</a>\u001b[0m     \u001b[39mreturn\u001b[39;00m \u001b[39mself\u001b[39m\u001b[39m.\u001b[39m_constructor(\n\u001b[1;32m-> <a href='file:///c%3A/Users/YOUNGBIN/anaconda3/envs/AML/lib/site-packages/pandas/core/frame.py?line=1523'>1524</a>\u001b[0m         np\u001b[39m.\u001b[39;49mdot(lvals, rvals), index\u001b[39m=\u001b[39mleft\u001b[39m.\u001b[39mindex, columns\u001b[39m=\u001b[39mother\u001b[39m.\u001b[39mcolumns\n\u001b[0;32m   <a href='file:///c%3A/Users/YOUNGBIN/anaconda3/envs/AML/lib/site-packages/pandas/core/frame.py?line=1524'>1525</a>\u001b[0m     )\n\u001b[0;32m   <a href='file:///c%3A/Users/YOUNGBIN/anaconda3/envs/AML/lib/site-packages/pandas/core/frame.py?line=1525'>1526</a>\u001b[0m \u001b[39melif\u001b[39;00m \u001b[39misinstance\u001b[39m(other, Series):\n\u001b[0;32m   <a href='file:///c%3A/Users/YOUNGBIN/anaconda3/envs/AML/lib/site-packages/pandas/core/frame.py?line=1526'>1527</a>\u001b[0m     \u001b[39mreturn\u001b[39;00m \u001b[39mself\u001b[39m\u001b[39m.\u001b[39m_constructor_sliced(np\u001b[39m.\u001b[39mdot(lvals, rvals), index\u001b[39m=\u001b[39mleft\u001b[39m.\u001b[39mindex)\n",
      "File \u001b[1;32m<__array_function__ internals>:180\u001b[0m, in \u001b[0;36mdot\u001b[1;34m(*args, **kwargs)\u001b[0m\n",
      "\u001b[1;31mMemoryError\u001b[0m: Unable to allocate 7.43 GiB for an array with shape (31587, 31587) and data type float64"
     ]
    }
   ],
   "source": [
    "model = GaussianProcessRegression(X_train, Y_train, GaussianKernel())\n",
    "pred = model.predict(X_test)\n",
    "\n",
    "mse = mean_squared_error(pred.values, Y_test.values)\n",
    "print(mse)\n",
    "\n",
    "C = model.temp[0]\n",
    "K_X_X = model.temp[1]\n",
    "K_X_Xt = model.temp[2]\n",
    "K_Xt_X = model.temp[3]\n",
    "K_Xt_Xt = model.temp[4]\n",
    "Sigma = model.temp[5]\n",
    "I = model.temp[6]\n",
    "y_concat = model.temp[7]\n"
   ]
  },
  {
   "cell_type": "code",
   "execution_count": null,
   "metadata": {},
   "outputs": [],
   "source": [
    "# np.kron # 380.8650009942557\n",
    "# block_diag(*[A]*N) # 380.8650009942557\n",
    "# kron_N_A # 382.4756739107164\n",
    "# for loop # 382.83785471791873"
   ]
  }
 ],
 "metadata": {
  "interpreter": {
   "hash": "2f37873089bc99999a4c22445a6971dc9322bb05dc63dba22dd50e8a2bf7bc1c"
  },
  "kernelspec": {
   "display_name": "Python 3.8.12 ('AML')",
   "language": "python",
   "name": "python3"
  },
  "language_info": {
   "codemirror_mode": {
    "name": "ipython",
    "version": 3
   },
   "file_extension": ".py",
   "mimetype": "text/x-python",
   "name": "python",
   "nbconvert_exporter": "python",
   "pygments_lexer": "ipython3",
   "version": "3.8.12"
  },
  "orig_nbformat": 4
 },
 "nbformat": 4,
 "nbformat_minor": 2
}
